{
 "cells": [
  {
   "cell_type": "markdown",
   "source": [
    "# **FINANCE 781**\n",
    "\n",
    "**Lecture 6**\n",
    "\n",
    "## **Neural Networks (Part I: The Basics)**"
   ],
   "metadata": {
    "collapsed": false
   },
   "id": "3a297b2e80c6e5ed"
  },
  {
   "cell_type": "code",
   "outputs": [
    {
     "name": "stderr",
     "output_type": "stream",
     "text": [
      "2024-09-20 14:25:33.646387: I tensorflow/core/platform/cpu_feature_guard.cc:182] This TensorFlow binary is optimized to use available CPU instructions in performance-critical operations.\n",
      "To enable the following instructions: AVX2 AVX512F AVX512_VNNI FMA, in other operations, rebuild TensorFlow with the appropriate compiler flags.\n"
     ]
    }
   ],
   "source": [
    "import numpy as np\n",
    "import pandas as pd\n",
    "import matplotlib.pyplot as plt\n",
    "\n",
    "import statsmodels.api as sm\n",
    "from sklearn.metrics import r2_score\n",
    "\n",
    "import tensorflow as tf\n",
    "from tensorflow.keras.models import Sequential\n",
    "from tensorflow.keras.layers import Dense, Activation\n",
    "from tensorflow.keras.utils import plot_model\n",
    "\n",
    "np.random.seed(0)"
   ],
   "metadata": {
    "collapsed": false,
    "ExecuteTime": {
     "end_time": "2024-09-20T02:25:36.441851Z",
     "start_time": "2024-09-20T02:25:20.299878Z"
    }
   },
   "id": "3c006055671572b4",
   "execution_count": 1
  },
  {
   "cell_type": "markdown",
   "source": [
    "### **Step 1: Preparation**\n"
   ],
   "metadata": {
    "collapsed": false
   },
   "id": "cdd1a5c1485b0a56"
  },
  {
   "cell_type": "code",
   "outputs": [],
   "source": [
    "# Define the parameters\n",
    "\n",
    "In_Sample = 2520        # Approximate number of trading days in 10 years\n",
    "\n",
    "Out_of_Sample = 126     # Approximate number of trading days in six months"
   ],
   "metadata": {
    "collapsed": false,
    "ExecuteTime": {
     "end_time": "2024-09-20T02:35:33.868795Z",
     "start_time": "2024-09-20T02:35:33.851875Z"
    }
   },
   "id": "2d25d885b8c4b2b4",
   "execution_count": 14
  },
  {
   "cell_type": "code",
   "outputs": [],
   "source": [
    "def actual_vs_predicted_plot(actual, predicted, in_sample):\n",
    "    \"\"\"\n",
    "    The actual_vs_predicted_plot function visualizes a comparison between actual values and predicted values.\n",
    "    The plot considers both in-sample and out-of-sample observations\n",
    "    \"\"\"\n",
    "    \n",
    "    # Plot settings\n",
    "    fig, ax = plt.subplots(figsize=(14, 7))\n",
    "    plt.title('Actual vs Predicted Values')\n",
    "    plt.xlabel('')\n",
    "    plt.ylabel('')\n",
    "    \n",
    "    \n",
    "    # Historical prices\n",
    "    ax.plot(actual, color='black', label='Actual')\n",
    "    ax.plot(predicted[:in_sample],\n",
    "              color='Blue',\n",
    "              label='Predicted (in-sample)')\n",
    "    ax.plot(predicted[in_sample:],\n",
    "              color='Red',\n",
    "              label='Predicted (out-of-sample)')\n",
    "    \n",
    "    # plt.legend()\n",
    "    plt.tight_layout()\n",
    "    plt"
   ],
   "metadata": {
    "collapsed": false,
    "ExecuteTime": {
     "end_time": "2024-09-20T02:35:49.659003Z",
     "start_time": "2024-09-20T02:35:49.643445Z"
    }
   },
   "id": "e493ef264c0b70e3",
   "execution_count": 15
  },
  {
   "cell_type": "code",
   "outputs": [],
   "source": [
    "def r_squared_score(actual, predicted):\n",
    "    \n",
    "    \"\"\"\n",
    "    Calculate and print the R2 score between actual and predicted values.\n",
    "    \"\"\"\n",
    "\n",
    "    r_squared = r2_score(actual, predicted)\n",
    "\n",
    "    print(f\"R-squared value: {r_squared}\")"
   ],
   "metadata": {
    "collapsed": false,
    "ExecuteTime": {
     "end_time": "2024-09-20T02:35:53.972753Z",
     "start_time": "2024-09-20T02:35:53.964874Z"
    }
   },
   "id": "6aceab05a4ce4ad1",
   "execution_count": 16
  },
  {
   "cell_type": "markdown",
   "source": [
    "### **Step 2: Generate the data**\n",
    "\n",
    "The data set (initially) represents a simple linear relationship (e.g., y = 2x + 1), which is split into training and test sets."
   ],
   "metadata": {
    "collapsed": false
   },
   "id": "256f957c70aa2f01"
  },
  {
   "cell_type": "code",
   "outputs": [
    {
     "data": {
      "text/plain": "             X         y\n0     0.349666  1.699331\n1     0.180530  1.361060\n2     0.074733  1.149466\n3     0.025845  1.051691\n4     0.412538  1.825076\n...        ...       ...\n2641  0.091663  1.183327\n2642  0.169913  1.339826\n2643  0.308490  1.616980\n2644  0.278069  1.556138\n2645  0.540184  2.080368\n\n[2646 rows x 2 columns]",
      "text/html": "<div>\n<style scoped>\n    .dataframe tbody tr th:only-of-type {\n        vertical-align: middle;\n    }\n\n    .dataframe tbody tr th {\n        vertical-align: top;\n    }\n\n    .dataframe thead th {\n        text-align: right;\n    }\n</style>\n<table border=\"1\" class=\"dataframe\">\n  <thead>\n    <tr style=\"text-align: right;\">\n      <th></th>\n      <th>X</th>\n      <th>y</th>\n    </tr>\n  </thead>\n  <tbody>\n    <tr>\n      <th>0</th>\n      <td>0.349666</td>\n      <td>1.699331</td>\n    </tr>\n    <tr>\n      <th>1</th>\n      <td>0.180530</td>\n      <td>1.361060</td>\n    </tr>\n    <tr>\n      <th>2</th>\n      <td>0.074733</td>\n      <td>1.149466</td>\n    </tr>\n    <tr>\n      <th>3</th>\n      <td>0.025845</td>\n      <td>1.051691</td>\n    </tr>\n    <tr>\n      <th>4</th>\n      <td>0.412538</td>\n      <td>1.825076</td>\n    </tr>\n    <tr>\n      <th>...</th>\n      <td>...</td>\n      <td>...</td>\n    </tr>\n    <tr>\n      <th>2641</th>\n      <td>0.091663</td>\n      <td>1.183327</td>\n    </tr>\n    <tr>\n      <th>2642</th>\n      <td>0.169913</td>\n      <td>1.339826</td>\n    </tr>\n    <tr>\n      <th>2643</th>\n      <td>0.308490</td>\n      <td>1.616980</td>\n    </tr>\n    <tr>\n      <th>2644</th>\n      <td>0.278069</td>\n      <td>1.556138</td>\n    </tr>\n    <tr>\n      <th>2645</th>\n      <td>0.540184</td>\n      <td>2.080368</td>\n    </tr>\n  </tbody>\n</table>\n<p>2646 rows × 2 columns</p>\n</div>"
     },
     "execution_count": 61,
     "metadata": {},
     "output_type": "execute_result"
    }
   ],
   "source": [
    "# Sample Data: \n",
    "# Start with a simple linear relationship (y = 2x + 1)\n",
    "# Then consider a non-linear relationship (y = 2x**2 + 1)\n",
    "\n",
    "X = np.random.rand(In_Sample+Out_of_Sample, 1)  # 100 samples, 1 feature\n",
    "y = 2 * X + 1\n",
    "\n",
    "# Create a DataFrame\n",
    "df = pd.DataFrame({\n",
    "    'X': X.flatten(),\n",
    "    'y': y.flatten()\n",
    "})\n",
    "\n",
    "df_train = df[:In_Sample]\n",
    "df_test = df[In_Sample:]\n",
    "\n",
    "df"
   ],
   "metadata": {
    "collapsed": false,
    "ExecuteTime": {
     "end_time": "2024-09-20T03:14:59.002416Z",
     "start_time": "2024-09-20T03:14:58.958854Z"
    }
   },
   "id": "b0557768f3511779",
   "execution_count": 61
  },
  {
   "cell_type": "markdown",
   "source": [
    "### **Step 3: The Regression Model**\n",
    "\n",
    "Our benchmark model is the lineear regression model estimated with OLS.\n",
    "\n",
    "The model is available from the statsmodels package.\n",
    "This can also be done in sklearn following the textbook."
   ],
   "metadata": {
    "collapsed": false
   },
   "id": "7a10ea701bbfaedd"
  },
  {
   "cell_type": "code",
   "outputs": [
    {
     "name": "stdout",
     "output_type": "stream",
     "text": [
      "                            OLS Regression Results                            \n",
      "==============================================================================\n",
      "Dep. Variable:                      y   R-squared:                       0.938\n",
      "Model:                            OLS   Adj. R-squared:                  0.938\n",
      "Method:                 Least Squares   F-statistic:                 3.788e+04\n",
      "Date:                Fri, 20 Sep 2024   Prob (F-statistic):               0.00\n",
      "Time:                        15:10:26   Log-Likelihood:                 1232.9\n",
      "No. Observations:                2520   AIC:                            -2462.\n",
      "Df Residuals:                    2518   BIC:                            -2450.\n",
      "Df Model:                           1                                         \n",
      "Covariance Type:            nonrobust                                         \n",
      "==============================================================================\n",
      "                 coef    std err          t      P>|t|      [0.025      0.975]\n",
      "------------------------------------------------------------------------------\n",
      "const          0.6717      0.006    114.706      0.000       0.660       0.683\n",
      "X              1.9908      0.010    194.624      0.000       1.971       2.011\n",
      "==============================================================================\n",
      "Omnibus:                      426.544   Durbin-Watson:                   2.048\n",
      "Prob(Omnibus):                  0.000   Jarque-Bera (JB):              246.039\n",
      "Skew:                           0.632   Prob(JB):                     3.74e-54\n",
      "Kurtosis:                       2.137   Cond. No.                         4.36\n",
      "==============================================================================\n",
      "\n",
      "Notes:\n",
      "[1] Standard Errors assume that the covariance matrix of the errors is correctly specified.\n"
     ]
    }
   ],
   "source": [
    "indep_var = ['X']\n",
    "\n",
    "# Assuming df_train['y'] is your dependent variable and df_train['x'] your independent variable\n",
    "y = df_train['y']\n",
    "\n",
    "# Add a constant to the model (for the intercept)\n",
    "X = sm.add_constant(df_train[indep_var])\n",
    "\n",
    "# Fit the model\n",
    "# Make sure the dependent variable (y) is the first argument\n",
    "model = sm.OLS(y, X).fit()\n",
    "\n",
    "# Print the summary of the model\n",
    "print(model.summary())"
   ],
   "metadata": {
    "collapsed": false,
    "ExecuteTime": {
     "end_time": "2024-09-20T03:10:28.284404Z",
     "start_time": "2024-09-20T03:10:26.513951Z"
    }
   },
   "id": "6ea566a6b6a25e3f",
   "execution_count": 41
  },
  {
   "cell_type": "markdown",
   "source": [
    "**Assessing the accuracy of the model**"
   ],
   "metadata": {
    "collapsed": false
   },
   "id": "c07e91f8ef53924b"
  },
  {
   "cell_type": "code",
   "outputs": [
    {
     "ename": "InvalidArgumentError",
     "evalue": "Graph execution error:\n\nDetected at node 'sequential_6/dense_12/Relu' defined at (most recent call last):\n    File \"/Library/Frameworks/Python.framework/Versions/3.8/lib/python3.8/runpy.py\", line 194, in _run_module_as_main\n      return _run_code(code, main_globals, None,\n    File \"/Library/Frameworks/Python.framework/Versions/3.8/lib/python3.8/runpy.py\", line 87, in _run_code\n      exec(code, run_globals)\n    File \"/Users/justincase/PycharmProjects/UoA_781/venv/lib/python3.8/site-packages/ipykernel_launcher.py\", line 18, in <module>\n      app.launch_new_instance()\n    File \"/Users/justincase/PycharmProjects/UoA_781/venv/lib/python3.8/site-packages/traitlets/config/application.py\", line 1075, in launch_instance\n      app.start()\n    File \"/Users/justincase/PycharmProjects/UoA_781/venv/lib/python3.8/site-packages/ipykernel/kernelapp.py\", line 739, in start\n      self.io_loop.start()\n    File \"/Users/justincase/PycharmProjects/UoA_781/venv/lib/python3.8/site-packages/tornado/platform/asyncio.py\", line 205, in start\n      self.asyncio_loop.run_forever()\n    File \"/Library/Frameworks/Python.framework/Versions/3.8/lib/python3.8/asyncio/base_events.py\", line 570, in run_forever\n      self._run_once()\n    File \"/Library/Frameworks/Python.framework/Versions/3.8/lib/python3.8/asyncio/base_events.py\", line 1859, in _run_once\n      handle._run()\n    File \"/Library/Frameworks/Python.framework/Versions/3.8/lib/python3.8/asyncio/events.py\", line 81, in _run\n      self._context.run(self._callback, *self._args)\n    File \"/Users/justincase/PycharmProjects/UoA_781/venv/lib/python3.8/site-packages/ipykernel/kernelbase.py\", line 545, in dispatch_queue\n      await self.process_one()\n    File \"/Users/justincase/PycharmProjects/UoA_781/venv/lib/python3.8/site-packages/ipykernel/kernelbase.py\", line 534, in process_one\n      await dispatch(*args)\n    File \"/Users/justincase/PycharmProjects/UoA_781/venv/lib/python3.8/site-packages/ipykernel/kernelbase.py\", line 437, in dispatch_shell\n      await result\n    File \"/Users/justincase/PycharmProjects/UoA_781/venv/lib/python3.8/site-packages/ipykernel/ipkernel.py\", line 362, in execute_request\n      await super().execute_request(stream, ident, parent)\n    File \"/Users/justincase/PycharmProjects/UoA_781/venv/lib/python3.8/site-packages/ipykernel/kernelbase.py\", line 778, in execute_request\n      reply_content = await reply_content\n    File \"/Users/justincase/PycharmProjects/UoA_781/venv/lib/python3.8/site-packages/ipykernel/ipkernel.py\", line 449, in do_execute\n      res = shell.run_cell(\n    File \"/Users/justincase/PycharmProjects/UoA_781/venv/lib/python3.8/site-packages/ipykernel/zmqshell.py\", line 549, in run_cell\n      return super().run_cell(*args, **kwargs)\n    File \"/Users/justincase/PycharmProjects/UoA_781/venv/lib/python3.8/site-packages/IPython/core/interactiveshell.py\", line 3009, in run_cell\n      result = self._run_cell(\n    File \"/Users/justincase/PycharmProjects/UoA_781/venv/lib/python3.8/site-packages/IPython/core/interactiveshell.py\", line 3064, in _run_cell\n      result = runner(coro)\n    File \"/Users/justincase/PycharmProjects/UoA_781/venv/lib/python3.8/site-packages/IPython/core/async_helpers.py\", line 129, in _pseudo_sync_runner\n      coro.send(None)\n    File \"/Users/justincase/PycharmProjects/UoA_781/venv/lib/python3.8/site-packages/IPython/core/interactiveshell.py\", line 3269, in run_cell_async\n      has_raised = await self.run_ast_nodes(code_ast.body, cell_name,\n    File \"/Users/justincase/PycharmProjects/UoA_781/venv/lib/python3.8/site-packages/IPython/core/interactiveshell.py\", line 3448, in run_ast_nodes\n      if await self.run_code(code, result, async_=asy):\n    File \"/Users/justincase/PycharmProjects/UoA_781/venv/lib/python3.8/site-packages/IPython/core/interactiveshell.py\", line 3508, in run_code\n      exec(code_obj, self.user_global_ns, self.user_ns)\n    File \"/var/folders/f5/qbf1k8rs1fb1mnv0b9p9x_480000gn/T/ipykernel_4341/1981862930.py\", line 1, in <module>\n      y_pred = model.predict(sm.add_constant(df[indep_var]))\n    File \"/Users/justincase/PycharmProjects/UoA_781/venv/lib/python3.8/site-packages/keras/src/utils/traceback_utils.py\", line 65, in error_handler\n      return fn(*args, **kwargs)\n    File \"/Users/justincase/PycharmProjects/UoA_781/venv/lib/python3.8/site-packages/keras/src/engine/training.py\", line 2554, in predict\n      tmp_batch_outputs = self.predict_function(iterator)\n    File \"/Users/justincase/PycharmProjects/UoA_781/venv/lib/python3.8/site-packages/keras/src/engine/training.py\", line 2341, in predict_function\n      return step_function(self, iterator)\n    File \"/Users/justincase/PycharmProjects/UoA_781/venv/lib/python3.8/site-packages/keras/src/engine/training.py\", line 2327, in step_function\n      outputs = model.distribute_strategy.run(run_step, args=(data,))\n    File \"/Users/justincase/PycharmProjects/UoA_781/venv/lib/python3.8/site-packages/keras/src/engine/training.py\", line 2315, in run_step\n      outputs = model.predict_step(data)\n    File \"/Users/justincase/PycharmProjects/UoA_781/venv/lib/python3.8/site-packages/keras/src/engine/training.py\", line 2283, in predict_step\n      return self(x, training=False)\n    File \"/Users/justincase/PycharmProjects/UoA_781/venv/lib/python3.8/site-packages/keras/src/utils/traceback_utils.py\", line 65, in error_handler\n      return fn(*args, **kwargs)\n    File \"/Users/justincase/PycharmProjects/UoA_781/venv/lib/python3.8/site-packages/keras/src/engine/training.py\", line 569, in __call__\n      return super().__call__(*args, **kwargs)\n    File \"/Users/justincase/PycharmProjects/UoA_781/venv/lib/python3.8/site-packages/keras/src/utils/traceback_utils.py\", line 65, in error_handler\n      return fn(*args, **kwargs)\n    File \"/Users/justincase/PycharmProjects/UoA_781/venv/lib/python3.8/site-packages/keras/src/engine/base_layer.py\", line 1150, in __call__\n      outputs = call_fn(inputs, *args, **kwargs)\n    File \"/Users/justincase/PycharmProjects/UoA_781/venv/lib/python3.8/site-packages/keras/src/utils/traceback_utils.py\", line 96, in error_handler\n      return fn(*args, **kwargs)\n    File \"/Users/justincase/PycharmProjects/UoA_781/venv/lib/python3.8/site-packages/keras/src/engine/sequential.py\", line 405, in call\n      return super().call(inputs, training=training, mask=mask)\n    File \"/Users/justincase/PycharmProjects/UoA_781/venv/lib/python3.8/site-packages/keras/src/engine/functional.py\", line 512, in call\n      return self._run_internal_graph(inputs, training=training, mask=mask)\n    File \"/Users/justincase/PycharmProjects/UoA_781/venv/lib/python3.8/site-packages/keras/src/engine/functional.py\", line 669, in _run_internal_graph\n      outputs = node.layer(*args, **kwargs)\n    File \"/Users/justincase/PycharmProjects/UoA_781/venv/lib/python3.8/site-packages/keras/src/utils/traceback_utils.py\", line 65, in error_handler\n      return fn(*args, **kwargs)\n    File \"/Users/justincase/PycharmProjects/UoA_781/venv/lib/python3.8/site-packages/keras/src/engine/base_layer.py\", line 1150, in __call__\n      outputs = call_fn(inputs, *args, **kwargs)\n    File \"/Users/justincase/PycharmProjects/UoA_781/venv/lib/python3.8/site-packages/keras/src/utils/traceback_utils.py\", line 96, in error_handler\n      return fn(*args, **kwargs)\n    File \"/Users/justincase/PycharmProjects/UoA_781/venv/lib/python3.8/site-packages/keras/src/layers/core/dense.py\", line 255, in call\n      outputs = self.activation(outputs)\n    File \"/Users/justincase/PycharmProjects/UoA_781/venv/lib/python3.8/site-packages/keras/src/activations.py\", line 321, in relu\n      return backend.relu(\n    File \"/Users/justincase/PycharmProjects/UoA_781/venv/lib/python3.8/site-packages/keras/src/backend.py\", line 5397, in relu\n      x = tf.nn.relu(x)\nNode: 'sequential_6/dense_12/Relu'\nMatrix size-incompatible: In[0]: [32,2], In[1]: [1,16]\n\t [[{{node sequential_6/dense_12/Relu}}]] [Op:__inference_predict_function_45984]",
     "output_type": "error",
     "traceback": [
      "\u001B[0;31m---------------------------------------------------------------------------\u001B[0m",
      "\u001B[0;31mInvalidArgumentError\u001B[0m                      Traceback (most recent call last)",
      "Cell \u001B[0;32mIn[62], line 1\u001B[0m\n\u001B[0;32m----> 1\u001B[0m y_pred \u001B[38;5;241m=\u001B[39m \u001B[43mmodel\u001B[49m\u001B[38;5;241;43m.\u001B[39;49m\u001B[43mpredict\u001B[49m\u001B[43m(\u001B[49m\u001B[43msm\u001B[49m\u001B[38;5;241;43m.\u001B[39;49m\u001B[43madd_constant\u001B[49m\u001B[43m(\u001B[49m\u001B[43mdf\u001B[49m\u001B[43m[\u001B[49m\u001B[43mindep_var\u001B[49m\u001B[43m]\u001B[49m\u001B[43m)\u001B[49m\u001B[43m)\u001B[49m\n\u001B[1;32m      3\u001B[0m df_reg \u001B[38;5;241m=\u001B[39m pd\u001B[38;5;241m.\u001B[39mDataFrame({\n\u001B[1;32m      4\u001B[0m     \u001B[38;5;124m'\u001B[39m\u001B[38;5;124mobs\u001B[39m\u001B[38;5;124m'\u001B[39m: df[\u001B[38;5;124m'\u001B[39m\u001B[38;5;124my\u001B[39m\u001B[38;5;124m'\u001B[39m],\n\u001B[1;32m      5\u001B[0m     \u001B[38;5;124m'\u001B[39m\u001B[38;5;124mpred\u001B[39m\u001B[38;5;124m'\u001B[39m: y_pred\n\u001B[1;32m      6\u001B[0m })\n\u001B[1;32m      7\u001B[0m \u001B[38;5;66;03m# df_reg = df_reg.sort_values(by=['obs']).reset_index()\u001B[39;00m\n",
      "File \u001B[0;32m~/PycharmProjects/UoA_781/venv/lib/python3.8/site-packages/keras/src/utils/traceback_utils.py:70\u001B[0m, in \u001B[0;36mfilter_traceback.<locals>.error_handler\u001B[0;34m(*args, **kwargs)\u001B[0m\n\u001B[1;32m     67\u001B[0m     filtered_tb \u001B[38;5;241m=\u001B[39m _process_traceback_frames(e\u001B[38;5;241m.\u001B[39m__traceback__)\n\u001B[1;32m     68\u001B[0m     \u001B[38;5;66;03m# To get the full stack trace, call:\u001B[39;00m\n\u001B[1;32m     69\u001B[0m     \u001B[38;5;66;03m# `tf.debugging.disable_traceback_filtering()`\u001B[39;00m\n\u001B[0;32m---> 70\u001B[0m     \u001B[38;5;28;01mraise\u001B[39;00m e\u001B[38;5;241m.\u001B[39mwith_traceback(filtered_tb) \u001B[38;5;28;01mfrom\u001B[39;00m \u001B[38;5;28;01mNone\u001B[39;00m\n\u001B[1;32m     71\u001B[0m \u001B[38;5;28;01mfinally\u001B[39;00m:\n\u001B[1;32m     72\u001B[0m     \u001B[38;5;28;01mdel\u001B[39;00m filtered_tb\n",
      "File \u001B[0;32m~/PycharmProjects/UoA_781/venv/lib/python3.8/site-packages/tensorflow/python/eager/execute.py:53\u001B[0m, in \u001B[0;36mquick_execute\u001B[0;34m(op_name, num_outputs, inputs, attrs, ctx, name)\u001B[0m\n\u001B[1;32m     51\u001B[0m \u001B[38;5;28;01mtry\u001B[39;00m:\n\u001B[1;32m     52\u001B[0m   ctx\u001B[38;5;241m.\u001B[39mensure_initialized()\n\u001B[0;32m---> 53\u001B[0m   tensors \u001B[38;5;241m=\u001B[39m pywrap_tfe\u001B[38;5;241m.\u001B[39mTFE_Py_Execute(ctx\u001B[38;5;241m.\u001B[39m_handle, device_name, op_name,\n\u001B[1;32m     54\u001B[0m                                       inputs, attrs, num_outputs)\n\u001B[1;32m     55\u001B[0m \u001B[38;5;28;01mexcept\u001B[39;00m core\u001B[38;5;241m.\u001B[39m_NotOkStatusException \u001B[38;5;28;01mas\u001B[39;00m e:\n\u001B[1;32m     56\u001B[0m   \u001B[38;5;28;01mif\u001B[39;00m name \u001B[38;5;129;01mis\u001B[39;00m \u001B[38;5;129;01mnot\u001B[39;00m \u001B[38;5;28;01mNone\u001B[39;00m:\n",
      "\u001B[0;31mInvalidArgumentError\u001B[0m: Graph execution error:\n\nDetected at node 'sequential_6/dense_12/Relu' defined at (most recent call last):\n    File \"/Library/Frameworks/Python.framework/Versions/3.8/lib/python3.8/runpy.py\", line 194, in _run_module_as_main\n      return _run_code(code, main_globals, None,\n    File \"/Library/Frameworks/Python.framework/Versions/3.8/lib/python3.8/runpy.py\", line 87, in _run_code\n      exec(code, run_globals)\n    File \"/Users/justincase/PycharmProjects/UoA_781/venv/lib/python3.8/site-packages/ipykernel_launcher.py\", line 18, in <module>\n      app.launch_new_instance()\n    File \"/Users/justincase/PycharmProjects/UoA_781/venv/lib/python3.8/site-packages/traitlets/config/application.py\", line 1075, in launch_instance\n      app.start()\n    File \"/Users/justincase/PycharmProjects/UoA_781/venv/lib/python3.8/site-packages/ipykernel/kernelapp.py\", line 739, in start\n      self.io_loop.start()\n    File \"/Users/justincase/PycharmProjects/UoA_781/venv/lib/python3.8/site-packages/tornado/platform/asyncio.py\", line 205, in start\n      self.asyncio_loop.run_forever()\n    File \"/Library/Frameworks/Python.framework/Versions/3.8/lib/python3.8/asyncio/base_events.py\", line 570, in run_forever\n      self._run_once()\n    File \"/Library/Frameworks/Python.framework/Versions/3.8/lib/python3.8/asyncio/base_events.py\", line 1859, in _run_once\n      handle._run()\n    File \"/Library/Frameworks/Python.framework/Versions/3.8/lib/python3.8/asyncio/events.py\", line 81, in _run\n      self._context.run(self._callback, *self._args)\n    File \"/Users/justincase/PycharmProjects/UoA_781/venv/lib/python3.8/site-packages/ipykernel/kernelbase.py\", line 545, in dispatch_queue\n      await self.process_one()\n    File \"/Users/justincase/PycharmProjects/UoA_781/venv/lib/python3.8/site-packages/ipykernel/kernelbase.py\", line 534, in process_one\n      await dispatch(*args)\n    File \"/Users/justincase/PycharmProjects/UoA_781/venv/lib/python3.8/site-packages/ipykernel/kernelbase.py\", line 437, in dispatch_shell\n      await result\n    File \"/Users/justincase/PycharmProjects/UoA_781/venv/lib/python3.8/site-packages/ipykernel/ipkernel.py\", line 362, in execute_request\n      await super().execute_request(stream, ident, parent)\n    File \"/Users/justincase/PycharmProjects/UoA_781/venv/lib/python3.8/site-packages/ipykernel/kernelbase.py\", line 778, in execute_request\n      reply_content = await reply_content\n    File \"/Users/justincase/PycharmProjects/UoA_781/venv/lib/python3.8/site-packages/ipykernel/ipkernel.py\", line 449, in do_execute\n      res = shell.run_cell(\n    File \"/Users/justincase/PycharmProjects/UoA_781/venv/lib/python3.8/site-packages/ipykernel/zmqshell.py\", line 549, in run_cell\n      return super().run_cell(*args, **kwargs)\n    File \"/Users/justincase/PycharmProjects/UoA_781/venv/lib/python3.8/site-packages/IPython/core/interactiveshell.py\", line 3009, in run_cell\n      result = self._run_cell(\n    File \"/Users/justincase/PycharmProjects/UoA_781/venv/lib/python3.8/site-packages/IPython/core/interactiveshell.py\", line 3064, in _run_cell\n      result = runner(coro)\n    File \"/Users/justincase/PycharmProjects/UoA_781/venv/lib/python3.8/site-packages/IPython/core/async_helpers.py\", line 129, in _pseudo_sync_runner\n      coro.send(None)\n    File \"/Users/justincase/PycharmProjects/UoA_781/venv/lib/python3.8/site-packages/IPython/core/interactiveshell.py\", line 3269, in run_cell_async\n      has_raised = await self.run_ast_nodes(code_ast.body, cell_name,\n    File \"/Users/justincase/PycharmProjects/UoA_781/venv/lib/python3.8/site-packages/IPython/core/interactiveshell.py\", line 3448, in run_ast_nodes\n      if await self.run_code(code, result, async_=asy):\n    File \"/Users/justincase/PycharmProjects/UoA_781/venv/lib/python3.8/site-packages/IPython/core/interactiveshell.py\", line 3508, in run_code\n      exec(code_obj, self.user_global_ns, self.user_ns)\n    File \"/var/folders/f5/qbf1k8rs1fb1mnv0b9p9x_480000gn/T/ipykernel_4341/1981862930.py\", line 1, in <module>\n      y_pred = model.predict(sm.add_constant(df[indep_var]))\n    File \"/Users/justincase/PycharmProjects/UoA_781/venv/lib/python3.8/site-packages/keras/src/utils/traceback_utils.py\", line 65, in error_handler\n      return fn(*args, **kwargs)\n    File \"/Users/justincase/PycharmProjects/UoA_781/venv/lib/python3.8/site-packages/keras/src/engine/training.py\", line 2554, in predict\n      tmp_batch_outputs = self.predict_function(iterator)\n    File \"/Users/justincase/PycharmProjects/UoA_781/venv/lib/python3.8/site-packages/keras/src/engine/training.py\", line 2341, in predict_function\n      return step_function(self, iterator)\n    File \"/Users/justincase/PycharmProjects/UoA_781/venv/lib/python3.8/site-packages/keras/src/engine/training.py\", line 2327, in step_function\n      outputs = model.distribute_strategy.run(run_step, args=(data,))\n    File \"/Users/justincase/PycharmProjects/UoA_781/venv/lib/python3.8/site-packages/keras/src/engine/training.py\", line 2315, in run_step\n      outputs = model.predict_step(data)\n    File \"/Users/justincase/PycharmProjects/UoA_781/venv/lib/python3.8/site-packages/keras/src/engine/training.py\", line 2283, in predict_step\n      return self(x, training=False)\n    File \"/Users/justincase/PycharmProjects/UoA_781/venv/lib/python3.8/site-packages/keras/src/utils/traceback_utils.py\", line 65, in error_handler\n      return fn(*args, **kwargs)\n    File \"/Users/justincase/PycharmProjects/UoA_781/venv/lib/python3.8/site-packages/keras/src/engine/training.py\", line 569, in __call__\n      return super().__call__(*args, **kwargs)\n    File \"/Users/justincase/PycharmProjects/UoA_781/venv/lib/python3.8/site-packages/keras/src/utils/traceback_utils.py\", line 65, in error_handler\n      return fn(*args, **kwargs)\n    File \"/Users/justincase/PycharmProjects/UoA_781/venv/lib/python3.8/site-packages/keras/src/engine/base_layer.py\", line 1150, in __call__\n      outputs = call_fn(inputs, *args, **kwargs)\n    File \"/Users/justincase/PycharmProjects/UoA_781/venv/lib/python3.8/site-packages/keras/src/utils/traceback_utils.py\", line 96, in error_handler\n      return fn(*args, **kwargs)\n    File \"/Users/justincase/PycharmProjects/UoA_781/venv/lib/python3.8/site-packages/keras/src/engine/sequential.py\", line 405, in call\n      return super().call(inputs, training=training, mask=mask)\n    File \"/Users/justincase/PycharmProjects/UoA_781/venv/lib/python3.8/site-packages/keras/src/engine/functional.py\", line 512, in call\n      return self._run_internal_graph(inputs, training=training, mask=mask)\n    File \"/Users/justincase/PycharmProjects/UoA_781/venv/lib/python3.8/site-packages/keras/src/engine/functional.py\", line 669, in _run_internal_graph\n      outputs = node.layer(*args, **kwargs)\n    File \"/Users/justincase/PycharmProjects/UoA_781/venv/lib/python3.8/site-packages/keras/src/utils/traceback_utils.py\", line 65, in error_handler\n      return fn(*args, **kwargs)\n    File \"/Users/justincase/PycharmProjects/UoA_781/venv/lib/python3.8/site-packages/keras/src/engine/base_layer.py\", line 1150, in __call__\n      outputs = call_fn(inputs, *args, **kwargs)\n    File \"/Users/justincase/PycharmProjects/UoA_781/venv/lib/python3.8/site-packages/keras/src/utils/traceback_utils.py\", line 96, in error_handler\n      return fn(*args, **kwargs)\n    File \"/Users/justincase/PycharmProjects/UoA_781/venv/lib/python3.8/site-packages/keras/src/layers/core/dense.py\", line 255, in call\n      outputs = self.activation(outputs)\n    File \"/Users/justincase/PycharmProjects/UoA_781/venv/lib/python3.8/site-packages/keras/src/activations.py\", line 321, in relu\n      return backend.relu(\n    File \"/Users/justincase/PycharmProjects/UoA_781/venv/lib/python3.8/site-packages/keras/src/backend.py\", line 5397, in relu\n      x = tf.nn.relu(x)\nNode: 'sequential_6/dense_12/Relu'\nMatrix size-incompatible: In[0]: [32,2], In[1]: [1,16]\n\t [[{{node sequential_6/dense_12/Relu}}]] [Op:__inference_predict_function_45984]"
     ]
    }
   ],
   "source": [
    "y_pred = model.predict(sm.add_constant(df[indep_var]))\n",
    "\n",
    "df_reg = pd.DataFrame({\n",
    "    'obs': df['y'],\n",
    "    'pred': y_pred\n",
    "})\n",
    "# df_reg = df_reg.sort_values(by=['obs']).reset_index()\n",
    "\n",
    "actual_vs_predicted_plot(df_reg['obs'], df_reg['pred'], In_Sample)\n",
    "\n",
    "y_pred_oos = model.predict(sm.add_constant(df_test[indep_var]))\n",
    "r_squared_score(df_test[['y']], y_pred_oos)"
   ],
   "metadata": {
    "collapsed": false,
    "ExecuteTime": {
     "end_time": "2024-09-20T03:15:12.145067Z",
     "start_time": "2024-09-20T03:15:11.249810Z"
    }
   },
   "id": "5872e80e41a47ba5",
   "execution_count": 62
  },
  {
   "cell_type": "markdown",
   "source": [
    "### **Step 4: The Neural Network Model**\n",
    "\n",
    "We'll begin by defining a simple neural network with one unit and a linear activation function, using the Tensorflow Keras package."
   ],
   "metadata": {
    "collapsed": false
   },
   "id": "6704a96830ce783d"
  },
  {
   "cell_type": "code",
   "outputs": [],
   "source": [
    "def neural_netork(input_dim):\n",
    "  model = Sequential()\n",
    "  \n",
    "  model.add(Dense(16, input_shape=(input_dim,), activation='relu'))\n",
    "  model.add(Dense(8, activation='relu'))\n",
    "\n",
    "\n",
    "  # A single Dense layer (perceptron) with 1 unit and a linear activation function\n",
    "  model.add(Dense(1, activation='linear'))\n",
    "\n",
    "  # Compile the model\n",
    "  # The optimizer is set to 'adam', and the loss function to 'mean_squared_error'\n",
    "  model.compile(optimizer=tf.keras.optimizers.Adam(learning_rate=0.01),\n",
    "                loss='mean_squared_error'\n",
    "                )\n",
    "\n",
    "  # Summary of the model to see its structure\n",
    "  print(model.summary())\n",
    "\n",
    "  return model"
   ],
   "metadata": {
    "collapsed": false,
    "ExecuteTime": {
     "end_time": "2024-09-20T03:13:43.176189Z",
     "start_time": "2024-09-20T03:13:43.131654Z"
    }
   },
   "id": "7ae2a3cbba984338",
   "execution_count": 55
  },
  {
   "cell_type": "code",
   "outputs": [
    {
     "name": "stdout",
     "output_type": "stream",
     "text": [
      "Model: \"sequential_7\"\n",
      "_________________________________________________________________\n",
      " Layer (type)                Output Shape              Param #   \n",
      "=================================================================\n",
      " dense_15 (Dense)            (None, 16)                32        \n",
      "                                                                 \n",
      " dense_16 (Dense)            (None, 8)                 136       \n",
      "                                                                 \n",
      " dense_17 (Dense)            (None, 1)                 9         \n",
      "                                                                 \n",
      "=================================================================\n",
      "Total params: 177 (708.00 Byte)\n",
      "Trainable params: 177 (708.00 Byte)\n",
      "Non-trainable params: 0 (0.00 Byte)\n",
      "_________________________________________________________________\n",
      "None\n"
     ]
    }
   ],
   "source": [
    "# Train the model\n",
    "# Using df_train['x'] as input and df_train['y'] as the target\n",
    "\n",
    "indep_var = ['X']\n",
    "\n",
    "model = neural_netork(len(indep_var))\n",
    "history = model.fit(df_train[indep_var].values, df_train['y'].values,\n",
    "                    epochs=10,\n",
    "                    batch_size=16,\n",
    "                    validation_split=0,\n",
    "                    verbose=0,\n",
    "                    shuffle=False\n",
    "                    )"
   ],
   "metadata": {
    "collapsed": false,
    "ExecuteTime": {
     "end_time": "2024-09-20T03:15:29.411654Z",
     "start_time": "2024-09-20T03:15:25.997088Z"
    }
   },
   "id": "1002878385afab7e",
   "execution_count": 63
  },
  {
   "cell_type": "code",
   "outputs": [
    {
     "name": "stdout",
     "output_type": "stream",
     "text": [
      "You must install pydot (`pip install pydot`) and install graphviz (see instructions at https://graphviz.gitlab.io/download/) for plot_model to work.\n"
     ]
    }
   ],
   "source": [
    "plot_model(model, show_shapes=True, show_layer_names=True)"
   ],
   "metadata": {
    "collapsed": false,
    "ExecuteTime": {
     "end_time": "2024-09-20T03:15:29.423512Z",
     "start_time": "2024-09-20T03:15:29.415120Z"
    }
   },
   "id": "1db8d351645cd488",
   "execution_count": 64
  },
  {
   "cell_type": "code",
   "outputs": [
    {
     "name": "stdout",
     "output_type": "stream",
     "text": [
      "Weights of layer 1: [[-0.03569159  0.21001416  0.72988933  0.48247203 -0.3031462   0.60969406\n",
      "   0.4306188  -0.17610744  0.15057258 -0.41114378 -0.11790997 -0.20996803\n",
      "   0.29629093 -0.03061153 -0.13264012  0.38728595]]\n",
      "Biases of layer 1: [-0.12370807  0.09877723  0.13072364 -0.00566297  0.          0.09529617\n",
      "  0.13257018  0.         -0.21690665  0.          0.          0.\n",
      "  0.13765068 -0.13696337  0.          0.12096991]\n",
      "Weights of layer 2: [[ 0.3786025   0.14917088  0.38317698 -0.36836803 -0.2466037  -0.29367518\n",
      "  -0.26903227  0.18662512]\n",
      " [-0.11698109  0.5095393  -0.3445448   0.15374911  0.40179837  0.21955442\n",
      "   0.42023495 -0.3696135 ]\n",
      " [-0.13976318 -0.29012257  0.08919297 -0.38782012  0.65826863 -0.18781602\n",
      "   0.53121173  0.16824733]\n",
      " [ 0.12468709  0.08439526  0.41799787 -0.21260822 -0.26855612  0.21811998\n",
      "   0.389168   -0.41229293]\n",
      " [ 0.2238605   0.10915387 -0.4409573   0.29729104 -0.1306833  -0.06576312\n",
      "  -0.04368377 -0.4752158 ]\n",
      " [-0.07573843  0.13872582  0.65457684 -0.32573712  0.43240836 -0.2221291\n",
      "  -0.06964584  0.2490459 ]\n",
      " [ 0.46771365 -0.09000556  0.33210975  0.14442992  0.579749   -0.14245772\n",
      "   0.2900187   0.19443098]\n",
      " [-0.44796216 -0.31766105  0.115345    0.48216546  0.26639712 -0.24468184\n",
      "  -0.12466085  0.00115621]\n",
      " [-0.14493632  0.2691008   0.18030415  0.27901065  0.01289378  0.23408115\n",
      "   0.11070743 -0.53968453]\n",
      " [-0.3972602  -0.4476117  -0.08261108 -0.2845528   0.28796458 -0.45792043\n",
      "   0.21840405 -0.31162977]\n",
      " [ 0.11606598  0.0419569  -0.30593395  0.35089993 -0.4495529   0.08525896\n",
      "  -0.26566327  0.36081123]\n",
      " [ 0.15792203  0.05897236 -0.19622481  0.29715908  0.39595747  0.35857368\n",
      "  -0.10715771  0.37867677]\n",
      " [ 0.41731676  0.33372852  0.11946844  0.38921332  0.5722994  -0.4778378\n",
      "   0.6264311  -0.22123788]\n",
      " [ 0.2087779  -0.2913301  -0.16486686  0.19275141  0.10940982  0.28726113\n",
      "  -0.23086289  0.19748378]\n",
      " [-0.00089741 -0.01175761  0.449378   -0.4520843   0.22274733  0.05600679\n",
      "  -0.07492602 -0.02387893]\n",
      " [ 0.2950375  -0.00442835  0.3146331  -0.2995788   0.6218875   0.18159032\n",
      "   0.01554006 -0.5201429 ]]\n",
      "Biases of layer 2: [ 0.09353592  0.05328321  0.15443595  0.          0.15704983  0.\n",
      "  0.15896279 -0.05346814]\n",
      "Weights of layer 3: [[ 0.5822651 ]\n",
      " [ 0.02733645]\n",
      " [ 0.46389136]\n",
      " [-0.05424756]\n",
      " [ 0.56803554]\n",
      " [ 0.16737062]\n",
      " [ 0.66222817]\n",
      " [-0.5632778 ]]\n",
      "Biases of layer 3: [0.16657953]\n"
     ]
    }
   ],
   "source": [
    "# Print the weights and biases\n",
    "\n",
    "\"\"\"\n",
    "This code iterates through each layer of a model, retrieves and prints the weights and biases for every layer,\n",
    "specifying each layer's position in the sequence.\n",
    "\"\"\"\n",
    "\n",
    "for layer in model.layers:\n",
    "    weights, biases = layer.get_weights()\n",
    "    print(f\"Weights of layer {model.layers.index(layer)+1}: {weights}\")\n",
    "    print(f\"Biases of layer {model.layers.index(layer)+1}: {biases}\")"
   ],
   "metadata": {
    "collapsed": false,
    "ExecuteTime": {
     "end_time": "2024-09-20T03:15:29.436567Z",
     "start_time": "2024-09-20T03:15:29.424136Z"
    }
   },
   "id": "d1393bf2eeadbaeb",
   "execution_count": 65
  },
  {
   "cell_type": "code",
   "outputs": [
    {
     "name": "stdout",
     "output_type": "stream",
     "text": [
      "83/83 [==============================] - 0s 1ms/step\n",
      "4/4 [==============================] - 0s 3ms/step\n",
      "R-squared value: 0.9999999829828793\n"
     ]
    },
    {
     "data": {
      "text/plain": "<Figure size 1400x700 with 1 Axes>",
      "image/png": "[encoded data removed]"
     },
     "metadata": {},
     "output_type": "display_data"
    }
   ],
   "source": [
    "# Generate predictions\n",
    "y_pred = pd.Series(model.predict(df[indep_var]).flatten())  # Flatten is used to ensure the prediction array shape matches the target array\n",
    "y_pred.index = df.index\n",
    "\n",
    "\n",
    "df_reg = pd.DataFrame({\n",
    "    'obs': df['y'],\n",
    "    'pred': y_pred\n",
    "})\n",
    "df_reg = df_reg.sort_values(by=['obs']).reset_index()\n",
    "\n",
    "actual_vs_predicted_plot(df_reg['obs'], df_reg['pred'], In_Sample)\n",
    "\n",
    "\n",
    "y_pred_oos = pd.Series(model.predict(df_test[indep_var]).flatten())\n",
    "y_pred_oos.index = df_test.index\n",
    "\n",
    "r_squared_score(df_test[['y']], y_pred_oos)"
   ],
   "metadata": {
    "collapsed": false,
    "ExecuteTime": {
     "end_time": "2024-09-20T03:15:31.300842Z",
     "start_time": "2024-09-20T03:15:30.279046Z"
    }
   },
   "id": "84d08d82c5b8b694",
   "execution_count": 66
  },
  {
   "cell_type": "markdown",
   "source": [
    "### **To Do**\n",
    "\n",
    "1) Run both OLS regression and NN model replicating linear regression.\n",
    "\n",
    "2) Then consider the Universal Approximation Theorem: \n",
    "Multilayer feed-forward networks with as few as one hidden layer are universal approximators.\n",
    "\n",
    "Add a hidden layer to the NN. The assess if we can fit both the linear and non-linear function.\n",
    "   - First try with linear activation functions\n",
    "   - Then try with non-linear (ReLU) activation.\n",
    "\n",
    "Does the depth and width of the network matter? Let's check.\n"
   ],
   "metadata": {
    "collapsed": false
   },
   "id": "be9c48a37985cf6e"
  },
  {
   "cell_type": "code",
   "outputs": [
    {
     "data": {
      "text/plain": "<Figure size 640x480 with 1 Axes>",
      "image/png": "[encoded data removed]"
     },
     "metadata": {},
     "output_type": "display_data"
    }
   ],
   "source": [
    "plt.plot(history.history['loss'], label='Training Loss')\n",
    "if 'val_loss' in history.history:\n",
    "    plt.plot(history.history['val_loss'], label='Validation Loss')\n",
    "plt.title('Model Loss')\n",
    "plt.ylabel('Loss')\n",
    "plt.xlabel('Epoch')\n",
    "plt.legend(loc='upper right')\n",
    "plt.show()"
   ],
   "metadata": {
    "collapsed": false,
    "ExecuteTime": {
     "end_time": "2024-09-20T02:25:42.301222Z",
     "start_time": "2024-09-20T02:25:41.990387Z"
    }
   },
   "id": "ef108aad22e6f852",
   "execution_count": 13
  },
  {
   "cell_type": "code",
   "outputs": [],
   "source": [],
   "metadata": {
    "collapsed": false,
    "ExecuteTime": {
     "end_time": "2024-09-20T02:25:42.312483Z",
     "start_time": "2024-09-20T02:25:42.301491Z"
    }
   },
   "id": "f14382c00aa3ba43",
   "execution_count": 13
  },
  {
   "cell_type": "code",
   "execution_count": null,
   "outputs": [],
   "source": [],
   "metadata": {
    "collapsed": false
   },
   "id": "7b58ced4576f7ac2"
  }
 ],
 "metadata": {
  "kernelspec": {
   "display_name": "Python 3",
   "language": "python",
   "name": "python3"
  },
  "language_info": {
   "codemirror_mode": {
    "name": "ipython",
    "version": 2
   },
   "file_extension": ".py",
   "mimetype": "text/x-python",
   "name": "python",
   "nbconvert_exporter": "python",
   "pygments_lexer": "ipython2",
   "version": "2.7.6"
  }
 },
 "nbformat": 4,
 "nbformat_minor": 5
}
