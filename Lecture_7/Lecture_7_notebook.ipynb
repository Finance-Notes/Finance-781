{
 "cells": [
  {
   "cell_type": "markdown",
   "source": [
    "## Forecasting - OLS, LASSO, PCA, Trees, Forests, Networks"
   ],
   "metadata": {
    "collapsed": false
   },
   "id": "83d64a5ecd661aef"
  },
  {
   "cell_type": "code",
   "execution_count": 1,
   "outputs": [
    {
     "name": "stderr",
     "output_type": "stream",
     "text": [
      "2024-09-27 09:45:09.609875: I tensorflow/core/platform/cpu_feature_guard.cc:182] This TensorFlow binary is optimized to use available CPU instructions in performance-critical operations.\n",
      "To enable the following instructions: AVX2 AVX512F AVX512_VNNI FMA, in other operations, rebuild TensorFlow with the appropriate compiler flags.\n"
     ]
    }
   ],
   "source": [
    "# Import necessary libraries\n",
    "import os\n",
    "import time\n",
    "\n",
    "from pathlib import Path\n",
    "import pandas as pd\n",
    "import numpy as np\n",
    "import matplotlib.pyplot as plt\n",
    "\n",
    "from sklearn.linear_model import LinearRegression, Lasso, Ridge\n",
    "from sklearn.decomposition import PCA\n",
    "from sklearn.preprocessing import StandardScaler\n",
    "from sklearn.tree import DecisionTreeRegressor\n",
    "from sklearn.ensemble import RandomForestRegressor\n",
    "from sklearn.model_selection import train_test_split\n",
    "from sklearn.metrics import mean_squared_error, mean_absolute_error, r2_score\n",
    "\n",
    "import statsmodels.api as sm\n",
    "import tensorflow as tf\n",
    "from tensorflow.keras.models import Sequential\n",
    "from tensorflow.keras.layers import Dense, Activation\n",
    "from tensorflow.keras.utils import plot_model\n",
    "\n",
    "import ssl\n",
    "ssl._create_default_https_context = ssl._create_stdlib_context\n",
    "\n",
    "# Setting a seed for reproducibility\n",
    "np.random.seed(0)"
   ],
   "metadata": {
    "collapsed": false,
    "ExecuteTime": {
     "end_time": "2024-09-26T21:45:15.552927Z",
     "start_time": "2024-09-26T21:44:56.312670Z"
    }
   },
   "id": "483d2599e74b321e"
  },
  {
   "cell_type": "markdown",
   "source": [
    "## Preprocessing"
   ],
   "metadata": {
    "collapsed": false
   },
   "id": "9666a3180ab3f2eb"
  },
  {
   "cell_type": "markdown",
   "source": [
    "#### Step 1: Download the Data"
   ],
   "metadata": {
    "collapsed": false
   },
   "id": "be450b84ab9de7a6"
  },
  {
   "cell_type": "code",
   "execution_count": 2,
   "outputs": [],
   "source": [
    "# Retrieve the data\n",
    "def load_data(local_file_path: Path, fred_path: str):\n",
    "    \"\"\"\n",
    "    Function to load data either from a local file or from FRED if the file doesn't exist locally.\n",
    "\n",
    "    Args:\n",
    "    local_file_path (Path): Local path to the dataset.\n",
    "    fred_path (str): URL to fetch the dataset from FRED.\n",
    "\n",
    "    Returns:\n",
    "    DataFrame: Loaded dataset.\n",
    "    \"\"\"\n",
    "    if local_file_path.is_file():\n",
    "        print(\"Local file found\")\n",
    "        df = pd.read_csv(local_file_path)\n",
    "    else:\n",
    "        print(\"Be patient: loading from FRED (2 minutes)\")\n",
    "        df = pd.read_csv(fred_path)\n",
    "        print(\"Done\")\n",
    "\n",
    "    # Drop unnecessary row\n",
    "    df.drop(0, inplace=True)\n",
    "\n",
    "    # Set index to date and format it as datetime\n",
    "    df = df.set_index(\"sasdate\", drop=True)\n",
    "    df.index = pd.to_datetime(df.index, format='%m/%d/%Y')\n",
    "\n",
    "    return df\n"
   ],
   "metadata": {
    "collapsed": false,
    "ExecuteTime": {
     "end_time": "2024-09-26T21:45:15.570807Z",
     "start_time": "2024-09-26T21:45:15.559223Z"
    }
   },
   "id": "1aeb5e10764b8159"
  },
  {
   "cell_type": "markdown",
   "source": [
    "#### Step 2: Define the target variable"
   ],
   "metadata": {
    "collapsed": false
   },
   "id": "a6bb6a1e7734db85"
  },
  {
   "cell_type": "code",
   "execution_count": 3,
   "outputs": [],
   "source": [
    "# Define the target variable (S&P 500 Returns)\n",
    "def preprocess_data(df):\n",
    "    \"\"\"\n",
    "    Preprocess the data by creating the target variable (S&P 500 log returns) and removing NaNs.\n",
    "\n",
    "    Args:\n",
    "    df (DataFrame): Data containing S&P 500 returns.\n",
    "\n",
    "    Returns:\n",
    "    DataFrame: Processed data with target variable.\n",
    "    \"\"\"\n",
    "    df['Target'] = (np.log(df['S&P 500']) - np.log(df['S&P 500'].shift(1))).shift(1)\n",
    "    df.drop('S&P 500', axis=1, inplace=True)\n",
    "    df.dropna(inplace=True)\n",
    "    return df"
   ],
   "metadata": {
    "collapsed": false,
    "ExecuteTime": {
     "end_time": "2024-09-26T21:45:15.598437Z",
     "start_time": "2024-09-26T21:45:15.576794Z"
    }
   },
   "id": "1ea94ae9bfb09971"
  },
  {
   "cell_type": "markdown",
   "source": [
    "#### Step 3: Scale and Split the Data"
   ],
   "metadata": {
    "collapsed": false
   },
   "id": "54c96e142a387628"
  },
  {
   "cell_type": "code",
   "execution_count": 4,
   "outputs": [],
   "source": [
    "# Creating training and test sets, standardizing the data\n",
    "def split_and_scale_data(df):\n",
    "    \"\"\"\n",
    "    Splits the data into training and test sets and scales them.\n",
    "\n",
    "    Args:\n",
    "    df (DataFrame): Preprocessed data.\n",
    "\n",
    "    Returns:\n",
    "    Tuple: Scaled training and test datasets.\n",
    "    \"\"\"\n",
    "    train_data, test_data = train_test_split(df, test_size=0.2, shuffle=False)\n",
    "\n",
    "    scaler = StandardScaler()\n",
    "    train_data_scaled = pd.DataFrame(scaler.fit_transform(train_data), index=train_data.index, columns=train_data.columns)\n",
    "    test_data_scaled = pd.DataFrame(scaler.transform(test_data), index=test_data.index, columns=test_data.columns)\n",
    "\n",
    "    return train_data_scaled, test_data_scaled"
   ],
   "metadata": {
    "collapsed": false,
    "ExecuteTime": {
     "end_time": "2024-09-26T21:45:15.598778Z",
     "start_time": "2024-09-26T21:45:15.587845Z"
    }
   },
   "id": "fe01d9940304a404"
  },
  {
   "cell_type": "markdown",
   "source": [
    "## Defining the Models"
   ],
   "metadata": {
    "collapsed": false
   },
   "id": "87359c389f0a41a5"
  },
  {
   "cell_type": "markdown",
   "source": [
    "#### Defining the PCA model"
   ],
   "metadata": {
    "collapsed": false
   },
   "id": "238ba1956ca85f2f"
  },
  {
   "cell_type": "code",
   "execution_count": 5,
   "outputs": [],
   "source": [
    "# Estimate the PCA model\n",
    "def apply_pca(train_data_scaled, test_data_scaled):\n",
    "    \"\"\"\n",
    "    Apply PCA to the training and test datasets.\n",
    "\n",
    "    Args:\n",
    "    train_data_scaled (DataFrame): Scaled training data.\n",
    "    test_data_scaled (DataFrame): Scaled test data.\n",
    "\n",
    "    Returns:\n",
    "    Tuple: Transformed training and test data after PCA.\n",
    "    \"\"\"\n",
    "    pca = PCA(n_components=4, whiten=True, svd_solver='full')\n",
    "    pca.fit(train_data_scaled.drop(\"Target\", axis=1))\n",
    "\n",
    "    train_pca = pd.DataFrame(pca.transform(train_data_scaled.drop(\"Target\", axis=1)), index=train_data_scaled.index)\n",
    "    test_pca = pd.DataFrame(pca.transform(test_data_scaled.drop(\"Target\", axis=1)), index=test_data_scaled.index)\n",
    "\n",
    "    return train_pca, test_pca"
   ],
   "metadata": {
    "collapsed": false,
    "ExecuteTime": {
     "end_time": "2024-09-26T21:45:15.612739Z",
     "start_time": "2024-09-26T21:45:15.603529Z"
    }
   },
   "id": "a4c6080146097b1"
  },
  {
   "cell_type": "markdown",
   "source": [],
   "metadata": {
    "collapsed": false
   },
   "id": "2979bfb7054e9408"
  },
  {
   "cell_type": "markdown",
   "source": [
    "#### The NN architecture\n",
    "\n",
    "Beginning with the architecture from last week"
   ],
   "metadata": {
    "collapsed": false
   },
   "id": "59b60a36ad2f96df"
  },
  {
   "cell_type": "code",
   "execution_count": 6,
   "outputs": [],
   "source": [
    "# Define the neural network model\n",
    "def build_neural_network(input_dim):\n",
    "    \"\"\"\n",
    "    Function to build a neural network model for regression tasks.\n",
    "\n",
    "    Args:\n",
    "    input_dim (int): Number of features (input dimension).\n",
    "\n",
    "    Returns:\n",
    "    model: Compiled neural network model.\n",
    "    \"\"\"\n",
    "    model = Sequential()\n",
    "    model.add(Dense(16, input_shape=(input_dim,), activation='relu'))\n",
    "    model.add(Dense(8, activation='relu'))\n",
    "    model.add(Dense(4, activation='relu'))\n",
    "\n",
    "    # Output layer with a single neuron for regression\n",
    "    model.add(Dense(1, activation='linear'))\n",
    "\n",
    "    # Compile the model\n",
    "    model.compile(optimizer=tf.keras.optimizers.Adam(learning_rate=0.01),\n",
    "                  loss='mean_squared_error')\n",
    "\n",
    "    print(model.summary())\n",
    "    return model"
   ],
   "metadata": {
    "collapsed": false,
    "ExecuteTime": {
     "end_time": "2024-09-26T21:45:15.622988Z",
     "start_time": "2024-09-26T21:45:15.610975Z"
    }
   },
   "id": "727eb6eb1bdbb27a"
  },
  {
   "cell_type": "markdown",
   "source": [],
   "metadata": {
    "collapsed": false
   },
   "id": "f0e7f70bcaa067b5"
  },
  {
   "cell_type": "markdown",
   "source": [
    "## Estimating the Models"
   ],
   "metadata": {
    "collapsed": false
   },
   "id": "6557462b681f9db9"
  },
  {
   "cell_type": "code",
   "execution_count": 7,
   "outputs": [],
   "source": [
    "# Estimating the Forecasting Models\n",
    "def train_models(train_data_scaled, train_pca, input_dim):\n",
    "    \"\"\"\n",
    "    Train multiple forecasting models (OLS, LASSO, Decision Tree, Random Forest, and Neural Network).\n",
    "\n",
    "    Args:\n",
    "    train_data_scaled (DataFrame): Scaled training data.\n",
    "    train_pca (DataFrame): Training data after applying PCA.\n",
    "    input_dim (int): Input dimension for the neural network model.\n",
    "\n",
    "    Returns:\n",
    "    Dict: Trained models.\n",
    "    \"\"\"\n",
    "    models = {\n",
    "        'ols': LinearRegression(fit_intercept=True).fit(train_data_scaled.drop(\"Target\", axis=1), train_data_scaled[\"Target\"]),\n",
    "        'ols_pca': LinearRegression(fit_intercept=True).fit(train_pca, train_data_scaled[\"Target\"]),\n",
    "        'lasso': Lasso(alpha=0.005, fit_intercept=True).fit(train_data_scaled.drop(\"Target\", axis=1), train_data_scaled['Target']),\n",
    "        'd_tree': DecisionTreeRegressor(max_depth=1000).fit(train_data_scaled.drop(\"Target\", axis=1), train_data_scaled[\"Target\"]),\n",
    "        'r_forest': RandomForestRegressor(max_depth=1000, random_state=0, n_estimators=2).fit(train_data_scaled.drop(\"Target\", axis=1), train_data_scaled[\"Target\"])\n",
    "    }\n",
    "\n",
    "    # Neural Network training\n",
    "    ann_model = build_neural_network(input_dim)\n",
    "    \n",
    "    # Train the neural network model\n",
    "    history = ann_model.fit(\n",
    "        train_data_scaled.drop(\"Target\", axis=1),\n",
    "        train_data_scaled[\"Target\"],\n",
    "        epochs=10,\n",
    "        batch_size=16,\n",
    "        validation_split=0.2,\n",
    "        verbose=1,\n",
    "        shuffle=False\n",
    "    )\n",
    "\n",
    "    # Add the trained ANN model to the models dictionary\n",
    "    models['ann'] = ann_model\n",
    "\n",
    "    return models, history"
   ],
   "metadata": {
    "collapsed": false,
    "ExecuteTime": {
     "end_time": "2024-09-26T21:45:15.654921Z",
     "start_time": "2024-09-26T21:45:15.625662Z"
    }
   },
   "id": "81025c73749c49a4"
  },
  {
   "cell_type": "markdown",
   "source": [],
   "metadata": {
    "collapsed": false
   },
   "id": "9874e23374d0a1a6"
  },
  {
   "cell_type": "markdown",
   "source": [
    "## Generating Forecasts"
   ],
   "metadata": {
    "collapsed": false
   },
   "id": "bded45a2d0b14125"
  },
  {
   "cell_type": "code",
   "execution_count": 8,
   "outputs": [],
   "source": [
    "# Forecasts from the trained models\n",
    "def generate_forecasts(models, test_data_scaled, test_pca):\n",
    "    \"\"\"\n",
    "    Generate forecasts from the trained models.\n",
    "\n",
    "    Args:\n",
    "    models (Dict): Dictionary of trained models.\n",
    "    test_data_scaled (DataFrame): Scaled test data.\n",
    "    test_pca (DataFrame): Test data after applying PCA.\n",
    "\n",
    "    Returns:\n",
    "    Dict: Forecasts from each model.\n",
    "    \"\"\"\n",
    "    forecasts = {\n",
    "        'ols': models['ols'].predict(test_data_scaled.drop(\"Target\", axis=1)),\n",
    "        'ols_pca': models['ols_pca'].predict(test_pca),\n",
    "        'lasso': models['lasso'].predict(test_data_scaled.drop(\"Target\", axis=1)),\n",
    "        'd_tree': models['d_tree'].predict(test_data_scaled.drop(\"Target\", axis=1)),\n",
    "        'r_forest': models['r_forest'].predict(test_data_scaled.drop(\"Target\", axis=1)),\n",
    "        'ann': models['ann'].predict(test_data_scaled.drop(\"Target\", axis=1)).flatten()\n",
    "    }\n",
    "\n",
    "    return forecasts"
   ],
   "metadata": {
    "collapsed": false,
    "ExecuteTime": {
     "end_time": "2024-09-26T21:45:15.655549Z",
     "start_time": "2024-09-26T21:45:15.634586Z"
    }
   },
   "id": "114c0575fe2501c4"
  },
  {
   "cell_type": "markdown",
   "source": [],
   "metadata": {
    "collapsed": false
   },
   "id": "55173fc63292c907"
  },
  {
   "cell_type": "markdown",
   "source": [
    "## Evaluating the Forecasts"
   ],
   "metadata": {
    "collapsed": false
   },
   "id": "390c1dcdf8fe151e"
  },
  {
   "cell_type": "code",
   "execution_count": 9,
   "outputs": [],
   "source": [
    "# Evaluation of the models\n",
    "def evaluate_models(forecasts, test_data_scaled):\n",
    "    \"\"\"\n",
    "    Evaluate the models' performance using Mean Squared Error and Mean Absolute Error.\n",
    "\n",
    "    Args:\n",
    "    forecasts (Dict): Forecasts generated by each model.\n",
    "    test_data_scaled (DataFrame): Scaled test data.\n",
    "\n",
    "    Returns:\n",
    "    None\n",
    "    \"\"\"\n",
    "    target = test_data_scaled[\"Target\"].values\n",
    "    for model_name, forecast in forecasts.items():\n",
    "        mse = mean_squared_error(target, forecast)\n",
    "        mae = mean_absolute_error(target, forecast)\n",
    "        print(f\"{model_name}: MSE = {mse}, MAE = {mae}\")\n"
   ],
   "metadata": {
    "collapsed": false,
    "ExecuteTime": {
     "end_time": "2024-09-26T21:45:15.655968Z",
     "start_time": "2024-09-26T21:45:15.643217Z"
    }
   },
   "id": "3c5adeb5200c3e35"
  },
  {
   "cell_type": "code",
   "execution_count": 10,
   "outputs": [],
   "source": [
    "# Visualize the forecasts\n",
    "def plot_forecasts(forecasts, test_data_scaled):\n",
    "    \"\"\"\n",
    "    Plot the forecasts alongside the observed values.\n",
    "\n",
    "    Args:\n",
    "    forecasts (Dict): Forecasts generated by each model.\n",
    "    test_data_scaled (DataFrame): Scaled test data.\n",
    "\n",
    "    Returns:\n",
    "    None\n",
    "    \"\"\"\n",
    "    plt.figure()\n",
    "    plt.plot(test_data_scaled.index, test_data_scaled[\"Target\"], linewidth=1, color='black', label='Observed')\n",
    "    for model_name, forecast in forecasts.items():\n",
    "        plt.plot(test_data_scaled.index, forecast, '--', linewidth=1, label=model_name)\n",
    "    plt.title('Return Forecasts')\n",
    "    plt.xlabel('Date')\n",
    "    plt.ylabel('Estimated Returns')\n",
    "    plt.legend()\n",
    "    plt.show()"
   ],
   "metadata": {
    "collapsed": false,
    "ExecuteTime": {
     "end_time": "2024-09-26T21:45:15.672168Z",
     "start_time": "2024-09-26T21:45:15.652966Z"
    }
   },
   "id": "778139e9206c46fc"
  },
  {
   "cell_type": "markdown",
   "source": [
    "## Execute the Code\n",
    "\n"
   ],
   "metadata": {
    "collapsed": false
   },
   "id": "af1d7fb39b5e1747"
  },
  {
   "cell_type": "code",
   "execution_count": 11,
   "outputs": [
    {
     "name": "stdout",
     "output_type": "stream",
     "text": [
      "Be patient: loading from FRED (2 minutes)\n",
      "Done\n",
      "Model: \"sequential\"\n",
      "_________________________________________________________________\n",
      " Layer (type)                Output Shape              Param #   \n",
      "=================================================================\n",
      " dense (Dense)               (None, 16)                2016      \n",
      "                                                                 \n",
      " dense_1 (Dense)             (None, 8)                 136       \n",
      "                                                                 \n",
      " dense_2 (Dense)             (None, 4)                 36        \n",
      "                                                                 \n",
      " dense_3 (Dense)             (None, 1)                 5         \n",
      "                                                                 \n",
      "=================================================================\n",
      "Total params: 2193 (8.57 KB)\n",
      "Trainable params: 2193 (8.57 KB)\n",
      "Non-trainable params: 0 (0.00 Byte)\n",
      "_________________________________________________________________\n",
      "None\n",
      "Epoch 1/10\n",
      "16/16 [==============================] - 1s 20ms/step - loss: 1.1143 - val_loss: 0.7490\n",
      "Epoch 2/10\n",
      "16/16 [==============================] - 0s 5ms/step - loss: 1.2807 - val_loss: 0.4716\n",
      "Epoch 3/10\n",
      "16/16 [==============================] - 0s 5ms/step - loss: 1.1340 - val_loss: 0.4328\n",
      "Epoch 4/10\n",
      "16/16 [==============================] - 0s 5ms/step - loss: 1.0255 - val_loss: 0.4258\n",
      "Epoch 5/10\n",
      "16/16 [==============================] - 0s 5ms/step - loss: 1.0645 - val_loss: 0.4231\n",
      "Epoch 6/10\n",
      "16/16 [==============================] - 0s 6ms/step - loss: 0.9996 - val_loss: 0.4213\n",
      "Epoch 7/10\n",
      "16/16 [==============================] - 0s 5ms/step - loss: 1.0586 - val_loss: 0.4209\n",
      "Epoch 8/10\n",
      "16/16 [==============================] - 0s 5ms/step - loss: 1.0691 - val_loss: 0.4210\n",
      "Epoch 9/10\n",
      "16/16 [==============================] - 0s 5ms/step - loss: 1.0321 - val_loss: 0.4229\n",
      "Epoch 10/10\n",
      "16/16 [==============================] - 0s 5ms/step - loss: 0.9663 - val_loss: 0.4981\n",
      "3/3 [==============================] - 0s 3ms/step\n",
      "ols: MSE = 2142.7485441436693, MAE = 36.768189962353155\n",
      "ols_pca: MSE = 0.8859922253492835, MAE = 0.7281529153348557\n",
      "lasso: MSE = 4.036419910058569, MAE = 1.1067223477685224\n",
      "d_tree: MSE = 1.2418944773804264, MAE = 0.8626124341392671\n",
      "r_forest: MSE = 0.9128445587930412, MAE = 0.7714659672884413\n",
      "ann: MSE = 0.8631732386188978, MAE = 0.7667121277242116\n"
     ]
    },
    {
     "data": {
      "text/plain": "<Figure size 640x480 with 1 Axes>",
      "image/png": "[encoded data removed]"
     },
     "metadata": {},
     "output_type": "display_data"
    }
   ],
   "source": [
    "# Define paths for the dataset\n",
    "fred_path = \"https://files.stlouisfed.org/files/htdocs/fred-md/monthly/current.csv\"\n",
    "local_file_path = Path(\"data/current.csv\")\n",
    "\n",
    "# Load the data\n",
    "df = load_data(local_file_path, fred_path)\n",
    "\n",
    "# Preprocess the data\n",
    "df = preprocess_data(df)\n",
    "\n",
    "# Split and scale the data\n",
    "train_data_scaled, test_data_scaled = split_and_scale_data(df)\n",
    "\n",
    "# Apply PCA\n",
    "train_pca, test_pca = apply_pca(train_data_scaled, test_data_scaled)\n",
    "\n",
    "# Train models\n",
    "input_dim = len(train_data_scaled.columns) - 1  # Exclude the target column for input dimensions\n",
    "models, history = train_models(train_data_scaled, train_pca, input_dim)\n",
    "\n",
    "# Generate forecasts\n",
    "forecasts = generate_forecasts(models, test_data_scaled, test_pca)\n",
    "\n",
    "# Evaluate models\n",
    "evaluate_models(forecasts, test_data_scaled)\n",
    "\n",
    "# Plot forecasts\n",
    "plot_forecasts(forecasts, test_data_scaled)"
   ],
   "metadata": {
    "collapsed": false,
    "ExecuteTime": {
     "end_time": "2024-09-26T21:45:21.524484Z",
     "start_time": "2024-09-26T21:45:15.661741Z"
    }
   },
   "id": "860a164fc625033d"
  },
  {
   "cell_type": "code",
   "execution_count": 12,
   "outputs": [
    {
     "data": {
      "text/plain": "<Figure size 640x480 with 1 Axes>",
      "image/png": "[encoded data removed]"
     },
     "metadata": {},
     "output_type": "display_data"
    }
   ],
   "source": [
    "plt.plot(history.history['loss'], label='Training Loss')\n",
    "if 'val_loss' in history.history:\n",
    "    plt.plot(history.history['val_loss'], label='Validation Loss')\n",
    "plt.title('Model Loss')\n",
    "plt.ylabel('Loss')\n",
    "plt.xlabel('Epoch')\n",
    "plt.legend(loc='upper right')\n",
    "plt.show()"
   ],
   "metadata": {
    "collapsed": false,
    "ExecuteTime": {
     "end_time": "2024-09-26T21:45:21.900296Z",
     "start_time": "2024-09-26T21:45:21.564928Z"
    }
   },
   "id": "8e767856ac077742"
  },
  {
   "cell_type": "code",
   "execution_count": null,
   "outputs": [],
   "source": [],
   "metadata": {
    "collapsed": false
   },
   "id": "254273414670ab1f"
  }
 ],
 "metadata": {
  "kernelspec": {
   "display_name": "Python 3",
   "language": "python",
   "name": "python3"
  },
  "language_info": {
   "codemirror_mode": {
    "name": "ipython",
    "version": 2
   },
   "file_extension": ".py",
   "mimetype": "text/x-python",
   "name": "python",
   "nbconvert_exporter": "python",
   "pygments_lexer": "ipython2",
   "version": "2.7.6"
  }
 },
 "nbformat": 4,
 "nbformat_minor": 5
}
