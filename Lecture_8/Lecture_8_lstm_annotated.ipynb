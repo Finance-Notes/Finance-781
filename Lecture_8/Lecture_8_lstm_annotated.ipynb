{
 "cells": [
  {
   "cell_type": "markdown",
   "source": [
    "## Forecasting - OLS, LASSO, PCA, Trees, Forests, Networks"
   ],
   "metadata": {
    "collapsed": false
   },
   "id": "83d64a5ecd661aef"
  },
  {
   "cell_type": "code",
   "execution_count": 32,
   "outputs": [],
   "source": [
    "# Import necessary libraries\n",
    "import os\n",
    "import random\n",
    "import time\n",
    "from pathlib import Path\n",
    "import pandas as pd\n",
    "import numpy as np\n",
    "import matplotlib.pyplot as plt\n",
    "\n",
    "from sklearn.preprocessing import StandardScaler\n",
    "from sklearn.metrics import mean_squared_error, mean_absolute_error\n",
    "\n",
    "import tensorflow as tf\n",
    "from tensorflow.keras.layers import Input, Dense, LSTM\n",
    "from tensorflow.keras.models import Model\n",
    "\n",
    "import ssl\n",
    "ssl._create_default_https_context = ssl._create_stdlib_context\n",
    "\n",
    "# Setting a seed for reproducibility\n",
    "np.random.seed(0)\n",
    "tf.random.set_seed(0)\n",
    "random.seed(0)\n",
    "\n",
    "\n",
    "lookback_period = 6"
   ],
   "metadata": {
    "collapsed": false,
    "ExecuteTime": {
     "end_time": "2024-10-09T05:24:21.029014Z",
     "start_time": "2024-10-09T05:24:21.015063Z"
    }
   },
   "id": "483d2599e74b321e"
  },
  {
   "cell_type": "code",
   "execution_count": 33,
   "outputs": [
    {
     "name": "stdout",
     "output_type": "stream",
     "text": [
      "No GPU\n"
     ]
    }
   ],
   "source": [
    "os.environ['TF_DETERMINISTIC_OPS'] = '1'\n",
    "\n",
    "# Ensure GPU is visible\n",
    "gpus = tf.config.list_physical_devices('GPU')\n",
    "if gpus:\n",
    "    try:\n",
    "        for gpu in gpus:\n",
    "            tf.config.experimental.set_memory_growth(gpu, True)\n",
    "            print('Using GPU')\n",
    "    except RuntimeError as e:\n",
    "        print(e)\n",
    "else:\n",
    "    print('No GPU')"
   ],
   "metadata": {
    "collapsed": false,
    "ExecuteTime": {
     "end_time": "2024-10-09T05:24:21.425957Z",
     "start_time": "2024-10-09T05:24:21.335934Z"
    }
   },
   "id": "19d78d8b07cffa9a"
  },
  {
   "cell_type": "markdown",
   "source": [
    "## Preprocessing"
   ],
   "metadata": {
    "collapsed": false
   },
   "id": "9666a3180ab3f2eb"
  },
  {
   "cell_type": "markdown",
   "source": [
    "#### Step 1: Download the Data"
   ],
   "metadata": {
    "collapsed": false
   },
   "id": "be450b84ab9de7a6"
  },
  {
   "cell_type": "code",
   "execution_count": 34,
   "outputs": [],
   "source": [
    "# Retrieve the data\n",
    "def load_data(local_file_path: Path, fred_path: str):\n",
    "    \"\"\"\n",
    "    Function to load data either from a local file or from FRED if the file doesn't exist locally.\n",
    "\n",
    "    Args:\n",
    "    local_file_path (Path): Local path to the dataset.\n",
    "    fred_path (str): URL to fetch the dataset from FRED.\n",
    "\n",
    "    Returns:\n",
    "    DataFrame: Loaded dataset.\n",
    "    \"\"\"\n",
    "    if local_file_path.is_file():\n",
    "        print(\"Local file found\")\n",
    "        df = pd.read_csv(local_file_path)\n",
    "    else:\n",
    "        print(\"Be patient: loading from FRED (2 minutes)\")\n",
    "        df = pd.read_csv(fred_path)\n",
    "        print(\"Done\")\n",
    "\n",
    "    # Drop unnecessary row\n",
    "    df.drop(0, inplace=True)\n",
    "\n",
    "    # Set index to date and format it as datetime\n",
    "    df = df.set_index(\"sasdate\", drop=True)\n",
    "    df.index = pd.to_datetime(df.index, format='%m/%d/%Y')\n",
    "\n",
    "    return df\n"
   ],
   "metadata": {
    "collapsed": false,
    "ExecuteTime": {
     "end_time": "2024-10-09T05:24:22.913261Z",
     "start_time": "2024-10-09T05:24:22.828093Z"
    }
   },
   "id": "1aeb5e10764b8159"
  },
  {
   "cell_type": "markdown",
   "source": [
    "#### Step 2: Define the target variable"
   ],
   "metadata": {
    "collapsed": false
   },
   "id": "a6bb6a1e7734db85"
  },
  {
   "cell_type": "code",
   "execution_count": 35,
   "outputs": [],
   "source": [
    "# Define the target variable (S&P 500 Returns)\n",
    "def preprocess_data(df):\n",
    "    \"\"\"\n",
    "    Preprocess the data by creating the target variable (S&P 500 log returns) and removing NaNs.\n",
    "\n",
    "    Args:\n",
    "    df (DataFrame): Data containing S&P 500 returns.\n",
    "\n",
    "    Returns:\n",
    "    DataFrame: Processed data with target variable.\n",
    "    \"\"\"\n",
    "    df['Target'] = (np.log(df['S&P 500']/df['S&P 500'].shift(1)))                   # .shift(1)\n",
    "    df['Target'] = df['Target'].shift(periods=-1)\n",
    "    df.drop('S&P 500', axis=1, inplace=True)\n",
    "    df = df.apply(lambda x: x.fillna(x.rolling(window=6, min_periods=1).mean()))\n",
    "    df.dropna(inplace=True)\n",
    "\n",
    "    return df"
   ],
   "metadata": {
    "collapsed": false,
    "ExecuteTime": {
     "end_time": "2024-10-09T05:24:23.920319Z",
     "start_time": "2024-10-09T05:24:23.836546Z"
    }
   },
   "id": "1ea94ae9bfb09971"
  },
  {
   "cell_type": "markdown",
   "source": [
    "#### Step 3: Scale and Split the Data"
   ],
   "metadata": {
    "collapsed": false
   },
   "id": "54c96e142a387628"
  },
  {
   "cell_type": "code",
   "execution_count": 36,
   "outputs": [],
   "source": [
    "# Creating training and test sets, standardizing the data\n",
    "def split_and_scale_data(df, lookback=6):\n",
    "    \"\"\"\n",
    "    Splits the data into training and test sets and scales them, ensuring continuous sequences for LSTM.\n",
    "\n",
    "    Args:\n",
    "    df (DataFrame): Preprocessed data.\n",
    "    lookback (int): The number of timesteps to look back (i.e., the size of the lookback window).\n",
    "\n",
    "    Returns:\n",
    "    Tuple: Scaled training and test datasets.\n",
    "    \"\"\"\n",
    "    # Use 80% of the data for training\n",
    "    split_index = int(len(df) * 0.8)\n",
    "\n",
    "    # Adjust split to allow overlap with the lookback period between train and test sets\n",
    "    train_data = df.iloc[:split_index]\n",
    "    test_data = df.iloc[split_index - lookback:]  # Allow overlap by the lookback period\n",
    "\n",
    "    # Standardize the data using the training set for fitting the scaler\n",
    "    scaler = StandardScaler()\n",
    "    train_data_scaled = pd.DataFrame(scaler.fit_transform(train_data), index=train_data.index,\n",
    "                                     columns=train_data.columns)\n",
    "    test_data_scaled = pd.DataFrame(scaler.transform(test_data), index=test_data.index, columns=test_data.columns)\n",
    "\n",
    "    return train_data_scaled, test_data_scaled"
   ],
   "metadata": {
    "collapsed": false,
    "ExecuteTime": {
     "end_time": "2024-10-09T05:24:24.888226Z",
     "start_time": "2024-10-09T05:24:24.813312Z"
    }
   },
   "id": "fe01d9940304a404"
  },
  {
   "cell_type": "code",
   "outputs": [],
   "source": [
    "def split_sequences(dataset, lookback, steps_out):\n",
    "    \"\"\"\n",
    "    Split the dataset into input sequences (X) and corresponding outputs (y), ensuring continuous forecasting.\n",
    "\n",
    "    Args:\n",
    "    dataset (DataFrame): The input dataset.\n",
    "    lookback (int): Number of timesteps in the input sequence (lookback period).\n",
    "    steps_out (int): Number of output timesteps (forecast horizon).\n",
    "\n",
    "    Returns:\n",
    "    Tuple: Sequences of input data (X) and corresponding targets (y).\n",
    "    \"\"\"\n",
    "    X, y = list(), list()\n",
    "\n",
    "    # Ensure continuous sequences\n",
    "    for i in range(len(dataset) - lookback):\n",
    "        end_ix = i + lookback\n",
    "        out_end_ix = end_ix + steps_out - 1\n",
    "\n",
    "        # Prevent out-of-bounds error\n",
    "        if out_end_ix >= len(dataset):\n",
    "            break\n",
    "\n",
    "        # Create input-output pairs\n",
    "        seq_x = dataset[i:end_ix, :-1]  # input sequence (all features except the target)\n",
    "        seq_y = dataset[end_ix:out_end_ix + 1, -1]  # output sequence (target variable)\n",
    "\n",
    "        X.append(seq_x)\n",
    "        y.append(seq_y[-1])  # Use the last value in the output window as the target\n",
    "\n",
    "    return np.array(X), np.array(y)"
   ],
   "metadata": {
    "collapsed": false,
    "ExecuteTime": {
     "end_time": "2024-10-09T05:24:25.387221Z",
     "start_time": "2024-10-09T05:24:25.323916Z"
    }
   },
   "id": "13b774f75157c9c2",
   "execution_count": 37
  },
  {
   "cell_type": "markdown",
   "source": [
    "###### Notes\n",
    "\n",
    "Recurrent neural networks, including those consisting of LSTM units, require sequential input data. This necessitates addition steps in the data prepocessing steps. Specifically, as opposed to a feed-forward NN, RNNs require an input shape of shape=(lookback, n_features). This can be seen in the build_lstm_network(lookback, n_features) definition. \n",
    "\n",
    "The split_sequences(dataset, lookback, steps_out) definition in the cell above manipulates the data into this shape. \n",
    "\n",
    "The standard procedure for splitting data into training (in-sample) and test (out-of-sample) also needs to be modified to account for the sequential data format.\n",
    "\n",
    "* The term \"lookback\" refers to the number of previous time steps used to predict the target. \n"
   ],
   "metadata": {
    "collapsed": false
   },
   "id": "8280c193b707cf35"
  },
  {
   "cell_type": "code",
   "execution_count": 38,
   "outputs": [
    {
     "name": "stdout",
     "output_type": "stream",
     "text": [
      "Be patient: loading from FRED (2 minutes)\n",
      "Done\n"
     ]
    }
   ],
   "source": [
    "# illustrating the input shape of the data\n",
    "\n",
    "# Define paths for the dataset\n",
    "fred_path = \"https://files.stlouisfed.org/files/htdocs/fred-md/monthly/current.csv\"\n",
    "local_file_path = Path(\"data/current.csv\")\n",
    "\n",
    "# Load the data\n",
    "df = load_data(local_file_path, fred_path)\n",
    "\n",
    "# Preprocess the data\n",
    "df = preprocess_data(df)\n",
    "\n",
    "# Split and scale the data\n",
    "train_data_scaled, test_data_scaled = split_and_scale_data(df)\n",
    "\n",
    "# Prepare the data using a lookback period=6 (i.e. a 6-month sequence)\n",
    "train_data_values = train_data_scaled.values\n",
    "X_train, y_train = split_sequences(train_data_values, 6, 1)"
   ],
   "metadata": {
    "collapsed": false,
    "ExecuteTime": {
     "end_time": "2024-10-09T05:24:28.223457Z",
     "start_time": "2024-10-09T05:24:26.434719Z"
    }
   },
   "id": "3edd52df85508001"
  },
  {
   "cell_type": "code",
   "execution_count": 39,
   "outputs": [
    {
     "name": "stdout",
     "output_type": "stream",
     "text": [
      "(306, 6, 125)\n"
     ]
    },
    {
     "data": {
      "text/plain": "array([[-1.75043110e+00, -1.83123846e+00, -1.80432263e+00,\n        -2.11441121e+00, -1.73701457e+00, -2.41681345e+00,\n        -2.57440129e+00, -2.55050315e+00, -2.71084222e+00,\n        -2.55449965e+00, -2.41485910e+00, -2.16139775e+00,\n        -2.16887982e+00, -2.08528911e+00, -1.05282904e+00,\n        -2.47453848e+00, -2.09860590e+00, -1.48273795e+00,\n         3.75647387e-01, -1.49221610e+00, -1.10723531e+00,\n        -1.96888712e+00, -2.17431065e+00,  9.02889666e-01,\n        -6.41107644e-01,  2.02551020e+00,  1.05054375e+00,\n        -1.96724461e-01,  2.81292358e-01, -3.37433113e-01,\n         1.22826638e+00, -2.33627020e+00,  2.94046380e-01,\n         2.31271410e-02, -1.97521615e+00,  1.02175389e+00,\n         7.49328387e-01,  1.36486705e+00, -2.15719060e+00,\n        -2.41896918e+00, -2.13253076e+00, -2.56685243e+00,\n        -2.33621025e+00, -2.06245274e+00, -5.36385289e-01,\n        -9.76267077e-01, -8.39363783e-01, -1.61662454e-01,\n         2.90199902e-01,  6.97003069e-01, -6.45443083e-01,\n        -2.05373742e-01, -4.39805740e-01, -1.92137081e-01,\n         6.67065703e-01, -9.66411384e-01, -4.49966699e-01,\n        -1.64251555e+00, -2.26830674e+00, -2.00532758e+00,\n        -9.41119373e-01, -1.59006360e+00,  2.35399315e+00,\n        -9.83765976e-01, -1.17914234e+00, -1.06521644e+00,\n        -8.87080591e-01, -6.73702627e-01, -6.39111335e-01,\n        -1.30778158e+00, -1.40266271e+00, -1.36233255e+00,\n        -1.38612973e+00,  2.01674566e+00, -2.46246108e-01,\n         6.28749661e-01,  5.88409247e-01,  6.57920247e-01,\n         6.47216920e-01,  6.79097182e-01,  1.43654550e+00,\n         1.76118239e+00,  1.69995577e+00,  1.76430116e+00,\n        -3.90124088e-01, -9.34007711e-02, -1.32133112e-01,\n         2.18015937e-01,  1.45920167e+00,  1.26237561e+00,\n         7.34382096e-01,  6.38347538e-01,  2.00189063e-03,\n         9.10873558e-01,  1.38230991e+00,  9.73743005e-01,\n        -4.75794277e-01, -1.32722157e+00, -1.28466642e+00,\n        -1.31299398e+00, -1.14328635e+00, -9.84407078e-01,\n        -9.97608199e-01, -1.67537377e+00,  9.34801291e-01,\n        -1.60146044e+00, -1.58465860e+00, -1.68056061e+00,\n        -3.15768635e-03, -1.65501960e+00, -1.69976352e+00,\n        -1.66926854e+00, -1.67919826e+00, -1.64819565e+00,\n         1.20361767e+00, -1.38371163e+00, -1.61601355e+00,\n        -1.61448591e+00, -1.54882898e+00, -1.67703843e+00,\n        -1.50793803e+00, -1.54231256e+00, -1.74867796e+00,\n        -1.33755245e+00, -3.27624387e-01],\n       [-1.74518248e+00, -1.82888768e+00, -1.79825596e+00,\n        -2.09805710e+00, -1.74249961e+00, -2.37108006e+00,\n        -2.51386591e+00, -2.49043637e+00, -2.61029921e+00,\n        -2.46068311e+00, -2.32866796e+00, -2.13438161e+00,\n        -2.13640269e+00, -2.06506159e+00, -7.83344470e-01,\n        -2.42168989e+00, -2.16888930e+00, -1.45872080e+00,\n         5.23089885e-01, -1.34169779e+00, -1.03838219e+00,\n        -1.92834254e+00, -2.13176208e+00,  9.02889666e-01,\n        -5.92551852e-01,  2.49939797e+00,  7.25451830e-01,\n        -1.89999523e-01,  1.75471755e-01, -2.96357068e-01,\n         1.05105685e+00, -2.33109378e+00,  2.86988941e-01,\n         6.83205449e-03, -1.96442029e+00,  1.01089563e+00,\n         7.33160732e-01,  1.36168081e+00, -2.15111937e+00,\n        -2.41896918e+00, -2.14394826e+00, -2.56974667e+00,\n        -2.33811561e+00, -2.04093377e+00, -7.07677213e-01,\n        -7.57133748e-01, -8.39363783e-01, -5.12162078e-02,\n         2.12078789e-01,  8.08238341e-01, -4.85048296e-01,\n        -1.37252432e-01, -5.87776102e-01, -3.34303332e-01,\n         1.72657163e-01, -9.00165575e-01, -6.56252126e-01,\n        -1.53979203e+00, -2.10310207e+00, -1.74769482e+00,\n        -9.49072394e-01, -1.58016439e+00,  1.98161904e+00,\n        -9.68561285e-01, -1.17789729e+00, -1.07133687e+00,\n        -8.83657268e-01, -6.72567029e-01, -6.37981934e-01,\n        -1.31354207e+00, -1.40155308e+00, -1.36304680e+00,\n        -1.40919368e+00,  2.11372744e+00, -2.29663792e-01,\n         5.92841661e-01,  6.73954066e-01,  7.53501881e-01,\n         7.66159784e-01,  8.34095630e-01,  1.62590869e+00,\n         1.87951492e+00,  1.74136200e+00,  1.77866829e+00,\n         7.31515953e-01,  9.90197020e-01,  9.45872057e-01,\n         1.24863673e+00,  1.92619942e+00,  1.48667469e+00,\n         8.31144818e-01,  6.98841548e-01,  2.25139536e-01,\n         1.12893373e+00,  1.75336576e+00,  6.54291531e-01,\n        -4.18120720e-01, -1.32356117e+00, -1.28466642e+00,\n        -1.30983075e+00, -1.16997760e+00, -9.87017412e-01,\n        -9.60106670e-01, -1.66023158e+00,  9.92175996e-01,\n        -1.58440394e+00, -1.57093967e+00, -1.65965517e+00,\n         6.46934253e-02, -1.64438822e+00, -1.68743851e+00,\n        -1.65586818e+00, -1.66613080e+00, -1.63507217e+00,\n         1.19836457e+00, -1.37014725e+00, -1.60530644e+00,\n        -1.60580249e+00, -1.52629752e+00, -1.67018526e+00,\n        -9.27888375e-01, -1.55392575e+00, -1.74386684e+00,\n        -1.33088929e+00, -4.26030854e-01],\n       [-1.73231080e+00, -1.81860982e+00, -1.79549225e+00,\n        -2.07087042e+00, -1.73148494e+00, -2.32898884e+00,\n        -2.45947955e+00, -2.43873093e+00, -2.50368483e+00,\n        -2.37358705e+00, -2.22064793e+00, -2.11183853e+00,\n        -2.10563526e+00, -2.05430705e+00, -7.46692572e-01,\n        -2.39351061e+00, -1.82408986e+00, -1.42353656e+00,\n         5.78357253e-01, -1.45351139e+00, -1.08342695e+00,\n        -1.90413834e+00, -2.10107488e+00,  9.02889666e-01,\n        -5.56135008e-01,  2.09220551e+00,  7.68227082e-01,\n        -2.21702804e-01,  8.56240729e-02, -3.09231649e-01,\n         8.94079895e-01, -2.31482501e+00,  2.89341421e-01,\n        -3.69609904e-02, -1.98601201e+00,  1.02265874e+00,\n         7.39319838e-01,  1.38079828e+00, -2.13698479e+00,\n        -2.41285249e+00, -2.19342408e+00, -2.54738204e+00,\n        -2.31715669e+00, -2.02107010e+00, -1.93801440e-01,\n        -5.38000418e-01, -6.71383347e-01, -5.16500392e-01,\n        -1.52486402e-01, -1.11980730e-01, -7.54097616e-01,\n        -4.86374147e-01, -6.52513135e-01, -4.52775208e-01,\n        -6.37990954e-02, -1.00208221e+00, -4.99475202e-01,\n        -1.53590830e+00, -1.96934345e+00, -1.71738940e+00,\n        -9.45867815e-01, -1.57152278e+00,  1.98161904e+00,\n        -9.59174040e-01, -1.17923812e+00, -1.07980347e+00,\n        -8.85602338e-01, -6.78657965e-01, -6.43936958e-01,\n        -1.32046909e+00, -1.39608462e+00, -1.36737234e+00,\n        -1.46525062e+00,  2.11297462e+00, -1.72441770e-01,\n         4.80629160e-01,  5.56892734e-01,  6.14908512e-01,\n         6.18670633e-01,  6.83655960e-01,  1.53890398e+00,\n         1.84401516e+00,  1.72755992e+00,  1.74993404e+00,\n         6.89973729e-01,  8.35397335e-01,  7.49871117e-01,\n         1.05232801e+00,  2.00922125e+00,  1.63887765e+00,\n         9.90112147e-01,  8.25878971e-01,  1.89545193e-01,\n         1.16984559e+00,  1.80199867e+00,  8.48328723e-01,\n        -4.48357342e-01, -1.31990078e+00, -1.28163709e+00,\n        -1.30350429e+00, -1.15218343e+00, -9.43170413e-01,\n        -9.45820374e-01, -1.65114627e+00,  8.77426586e-01,\n        -1.56393613e+00, -1.55836399e+00, -1.65442881e+00,\n         1.05404092e-01, -1.63375684e+00, -1.67511351e+00,\n        -1.64246782e+00, -1.65633020e+00, -1.62039460e+00,\n         1.21473211e+00, -1.36801796e+00, -1.59169804e+00,\n        -1.59422459e+00, -1.52379403e+00, -1.65647893e+00,\n        -8.31213432e-01, -1.53999857e+00, -1.74376582e+00,\n        -1.32290046e+00, -4.30096451e-01],\n       [-1.71361458e+00, -1.79717940e+00, -1.77830334e+00,\n        -2.10660090e+00, -1.72141788e+00, -2.31083063e+00,\n        -2.41882836e+00, -2.39793590e+00, -2.42832677e+00,\n        -2.22399693e+00, -2.25839291e+00, -2.09266275e+00,\n        -2.10383899e+00, -2.03651830e+00, -8.41192645e-01,\n        -2.36286439e+00, -2.02306706e+00, -1.47197406e+00,\n         6.40129438e-01, -1.35244910e+00, -1.08596191e+00,\n        -1.87574693e+00, -2.10662469e+00,  1.02822963e+00,\n        -5.07579216e-01,  2.51694937e+00,  6.97647916e-01,\n        -7.08720437e-02,  2.45353285e-01, -1.65772027e-01,\n         8.82219415e-01, -2.30077470e+00,  2.90752908e-01,\n        -6.44589489e-02, -1.98361293e+00,  1.02446845e+00,\n         7.40859615e-01,  1.38292244e+00, -2.12465261e+00,\n        -2.42126293e+00, -2.23782546e+00, -2.54435623e+00,\n        -2.29619778e+00, -2.00948295e+00, -3.65093364e-01,\n        -3.18867089e-01, -5.03402910e-01, -2.46259578e-01,\n        -1.26446031e-01,  5.14981714e-01, -6.24746981e-01,\n        -2.56464725e-01, -6.47889062e-01, -2.86914581e-01,\n         9.74210808e-02, -1.03265719e+00, -6.14995041e-01,\n        -1.48169238e+00, -1.92865917e+00, -1.64562500e+00,\n        -9.42702187e-01, -1.57290708e+00,  1.85749434e+00,\n        -9.50183440e-01, -1.17958928e+00, -1.08592390e+00,\n        -8.84513099e-01, -6.80309745e-01, -6.45682396e-01,\n        -1.32568076e+00, -1.39559381e+00, -1.36875409e+00,\n        -1.50442004e+00,  2.00355734e+00, -7.75153201e-02,\n         5.21025660e-01,  4.84854991e-01,  5.57559532e-01,\n         5.61578058e-01,  6.33509403e-01,  1.49284267e+00,\n         1.79076552e+00,  1.69305473e+00,  1.69246555e+00,\n        -3.48581865e-01,  2.26989922e-02,  6.38678276e-02,\n         5.61556202e-01,  1.82242215e+00,  1.49468538e+00,\n         8.93349425e-01,  7.23039153e-01,  8.00701546e-02,\n         1.05242857e+00,  1.60306220e+00,  1.16127285e+00,\n        -3.82844662e-01, -1.30525920e+00, -1.26649047e+00,\n        -1.29085137e+00, -1.11303628e+00, -9.20140000e-01,\n        -9.49391948e-01, -1.64206096e+00,  1.04955070e+00,\n        -1.55370223e+00, -1.54921803e+00, -1.63874973e+00,\n         1.32544537e-01, -1.62525174e+00, -1.66278851e+00,\n        -1.63241755e+00, -1.64652959e+00, -1.61314215e+00,\n         1.23076787e+00, -1.36076259e+00, -1.58741520e+00,\n        -1.59133012e+00, -1.52379403e+00, -1.64619917e+00,\n        -6.70088527e-01, -1.56235991e+00, -1.74349753e+00,\n        -1.31102016e+00, -6.03716463e-01],\n       [-1.69888297e+00, -1.77979452e+00, -1.76927074e+00,\n        -2.06368493e+00, -1.71623385e+00, -2.30770626e+00,\n        -2.43704953e+00, -2.41986583e+00, -2.48497883e+00,\n        -2.29190072e+00, -2.28842216e+00, -2.08696724e+00,\n        -2.08666983e+00, -2.03271189e+00, -6.28941871e-01,\n        -2.34557105e+00, -2.34483912e+00, -1.49349307e+00,\n         6.52149207e-01, -1.39115381e+00, -1.14469239e+00,\n        -1.84102361e+00, -2.10183662e+00,  1.15356960e+00,\n        -4.59023424e-01,  2.87148763e+00,  7.42561931e-01,\n         7.99587163e-02,  5.40852328e-01, -6.40015253e-02,\n         9.01056649e-01, -2.29348545e+00,  2.73344559e-01,\n        -1.30657738e-01, -2.00880328e+00,  1.02039661e+00,\n         7.30851067e-01,  1.38717077e+00, -2.11459714e+00,\n        -2.41896918e+00, -2.26954073e+00, -2.53606816e+00,\n        -2.27904958e+00, -2.00203408e+00, -5.36385289e-01,\n        -5.38000418e-01, -6.71383347e-01, -4.08404067e-01,\n        -3.60809369e-01,  2.82398872e-01, -8.26533971e-01,\n        -2.39434397e-01, -6.45577025e-01, -3.57997707e-01,\n        -7.45471071e-02, -9.40932227e-01, -5.98492206e-01,\n        -1.45518393e+00, -2.01857385e+00, -1.75481256e+00,\n        -9.51108452e-01, -1.55570305e+00,  1.85749434e+00,\n        -9.45291496e-01, -1.18124935e+00, -1.09683867e+00,\n        -8.82490226e-01, -6.79587091e-01, -6.45066359e-01,\n        -1.32832845e+00, -1.39764347e+00, -1.37230748e+00,\n        -1.55291130e+00,  2.10005486e+00, -8.24643903e-02,\n         4.94094660e-01,  5.02864427e-01,  5.71896777e-01,\n         5.71093487e-01,  6.24391847e-01,  1.38536626e+00,\n         1.71384938e+00,  1.65164850e+00,  1.63499705e+00,\n         6.68403728e-02,  3.70998282e-01,  3.25202414e-01,\n         6.59710563e-01,  1.66675623e+00,  1.43861060e+00,\n         8.93349425e-01,  7.10940351e-01, -1.13275930e-01,\n         7.83637695e-01,  1.32026846e+00,  1.43103188e+00,\n        -4.00202722e-01, -1.28695723e+00, -1.25134385e+00,\n        -1.27187199e+00, -1.08990386e+00, -8.72724444e-01,\n        -9.24390929e-01, -1.62994721e+00,  1.14517521e+00,\n        -1.53664573e+00, -1.53892884e+00, -1.61261793e+00,\n         1.59684982e-01, -1.61674664e+00, -1.64738226e+00,\n        -1.61901719e+00, -1.63346213e+00, -1.60347222e+00,\n         1.21263087e+00, -1.33631515e+00, -1.58216526e+00,\n        -1.57975222e+00, -1.49625558e+00, -1.63934600e+00,\n        -5.73413584e-01, -1.55361217e+00, -1.73606689e+00,\n        -1.29984544e+00, -6.00732648e-01],\n       [-1.70210185e+00, -1.78564415e+00, -1.75814850e+00,\n        -2.00859167e+00, -1.70307868e+00, -2.25747062e+00,\n        -2.36192695e+00, -2.33976356e+00, -2.33188755e+00,\n        -2.16280567e+00, -2.13705454e+00, -2.06211818e+00,\n        -2.05678971e+00, -2.01397154e+00, -6.22414031e-01,\n        -2.29799573e+00, -2.26946116e+00, -1.47513837e+00,\n         7.72064077e-01, -1.41265642e+00, -1.12802310e+00,\n        -1.83040236e+00, -2.06984358e+00,  1.09089962e+00,\n        -4.71162372e-01,  2.59066524e+00,  7.91753471e-01,\n         1.07879219e-02,  3.05251740e-01, -7.99414834e-02,\n         1.23594081e+00, -2.28482286e+00,  2.62052657e-01,\n        -1.59174139e-01, -2.02559684e+00,  1.01722961e+00,\n         7.15453300e-01,  1.40097783e+00, -2.10454167e+00,\n        -2.44955262e+00, -2.34777174e+00, -2.56014303e+00,\n        -2.28286029e+00, -1.95651317e+00, -5.36385289e-01,\n        -5.38000418e-01, -6.71383347e-01, -4.22503587e-01,\n        -1.52486402e-01,  2.21725087e-01, -7.74793718e-01,\n        -3.92707345e-01, -5.71591844e-01, -1.92137081e-01,\n         3.29330104e-02, -9.20548901e-01, -5.07726619e-01,\n        -1.46448925e+00, -2.02591628e+00, -1.78511798e+00,\n        -9.66320463e-01, -1.54096986e+00,  1.73336964e+00,\n        -9.33392173e-01, -1.18108973e+00, -1.10346914e+00,\n        -8.79922734e-01, -6.79277383e-01, -6.44861013e-01,\n        -1.33260802e+00, -1.39834314e+00, -1.37127529e+00,\n        -1.55815007e+00,  2.01146022e+00, -8.25013656e-03,\n         2.65181158e-01,  2.86751199e-01,  3.56838100e-01,\n         3.37965474e-01,  3.64541506e-01,  1.05781913e+00,\n         1.46535108e+00,  1.54813292e+00,  1.48414226e+00,\n         1.91467044e-01,  6.03197809e-01,  3.90536061e-01,\n         5.12479021e-01,  1.53184577e+00,  1.51070674e+00,\n         1.14216785e+00,  8.92422383e-01, -3.14020052e-01,\n         4.14203663e-01,  1.25173113e+00,  1.80135896e+00,\n        -4.20360470e-01, -1.29061762e+00, -1.25134385e+00,\n        -1.26870876e+00, -1.08990386e+00, -8.93078439e-01,\n        -8.79746252e-01, -1.61783347e+00,  1.25992462e+00,\n        -1.51958923e+00, -1.52749639e+00, -1.60216521e+00,\n         1.86825426e-01, -1.60611526e+00, -1.63505726e+00,\n        -1.60561683e+00, -1.62366153e+00, -1.58542743e+00,\n         1.22451945e+00, -1.32448574e+00, -1.56731346e+00,\n        -1.58264669e+00, -1.52129053e+00, -1.63249284e+00,\n        -8.79550903e-01, -1.54717842e+00, -1.73557662e+00,\n        -1.28633325e+00, -7.73045011e-01]])"
     },
     "execution_count": 39,
     "metadata": {},
     "output_type": "execute_result"
    }
   ],
   "source": [
    "print(X_train.shape)\n",
    "X_train[0]"
   ],
   "metadata": {
    "collapsed": false,
    "ExecuteTime": {
     "end_time": "2024-10-09T05:24:28.329336Z",
     "start_time": "2024-10-09T05:24:28.232704Z"
    }
   },
   "id": "a844528e491ea185"
  },
  {
   "cell_type": "markdown",
   "source": [
    "From the above, we have formed 306 sequences, each with a length of 6 and consisting of 125 covariates or predictor variables.\n",
    "\n",
    "We have also created a many-to-one RNN, which is why our output consists of only one observation."
   ],
   "metadata": {
    "collapsed": false
   },
   "id": "feffd0fad37b94d7"
  },
  {
   "cell_type": "code",
   "execution_count": 40,
   "outputs": [
    {
     "name": "stdout",
     "output_type": "stream",
     "text": [
      "(306,)\n"
     ]
    },
    {
     "data": {
      "text/plain": "-0.13379353685396914"
     },
     "execution_count": 40,
     "metadata": {},
     "output_type": "execute_result"
    }
   ],
   "source": [
    "print(y_train.shape)\n",
    "y_train[0]"
   ],
   "metadata": {
    "collapsed": false,
    "ExecuteTime": {
     "end_time": "2024-10-09T05:24:29.663339Z",
     "start_time": "2024-10-09T05:24:29.409601Z"
    }
   },
   "id": "56d2658b259076ba"
  },
  {
   "cell_type": "markdown",
   "source": [
    "## Defining the Models"
   ],
   "metadata": {
    "collapsed": false
   },
   "id": "87359c389f0a41a5"
  },
  {
   "cell_type": "markdown",
   "source": [
    "#### The NN architecture\n",
    "\n",
    "\n",
    "Beginning with the architecture from last week"
   ],
   "metadata": {
    "collapsed": false
   },
   "id": "59b60a36ad2f96df"
  },
  {
   "cell_type": "code",
   "execution_count": 41,
   "outputs": [],
   "source": [
    "# Define the LSTM network model\n",
    "def build_lstm_network(lookback, n_features):\n",
    "    \"\"\"\n",
    "    Function to build an LSTM neural network model for regression tasks.\n",
    "\n",
    "    Args:\n",
    "    lookback (int): Number of timesteps (lookback period).\n",
    "    n_features (int): Number of features (input dimension).\n",
    "\n",
    "    Returns:\n",
    "    model: Compiled LSTM neural network model.\n",
    "    \"\"\"\n",
    "    inputs = Input(shape=(lookback, n_features))\n",
    "    x = LSTM(16, return_sequences=True)(inputs)\n",
    "    x = LSTM(8, return_sequences=True)(x)\n",
    "    x = LSTM(4, return_sequences=False)(x)\n",
    "    outputs = Dense(1, activation='linear')(x)\n",
    "\n",
    "    model = Model(inputs=inputs, outputs=outputs)\n",
    "\n",
    "    # Compile the model\n",
    "    model.compile(optimizer=tf.keras.optimizers.Adam(learning_rate=0.001),\n",
    "                  loss='mean_squared_error')\n",
    "\n",
    "    return model"
   ],
   "metadata": {
    "collapsed": false,
    "ExecuteTime": {
     "end_time": "2024-10-09T05:24:33.189585Z",
     "start_time": "2024-10-09T05:24:32.955792Z"
    }
   },
   "id": "727eb6eb1bdbb27a"
  },
  {
   "cell_type": "markdown",
   "source": [
    "###### Notes:\n",
    "\n",
    "You must set return_sequences=True when stacking LSTM layers so that the second LSTM layer has a three-dimensional sequence input.\n",
    "\n",
    "I.e.  If the input layer has a shape of (lookback, n_features), the number of time steps (lookback) will be carried over to subsequent LSTM layers, as long as return_sequences=True is set. \n",
    "\n",
    "The third dimension, in addition to lookback and n_features, is the batch size."
   ],
   "metadata": {
    "collapsed": false
   },
   "id": "f0e7f70bcaa067b5"
  },
  {
   "cell_type": "markdown",
   "source": [
    "## Estimating the Models"
   ],
   "metadata": {
    "collapsed": false
   },
   "id": "6557462b681f9db9"
  },
  {
   "cell_type": "markdown",
   "source": [
    "#### Callbacks"
   ],
   "metadata": {
    "collapsed": false
   },
   "id": "b91ba168b4536647"
  },
  {
   "cell_type": "code",
   "execution_count": 42,
   "outputs": [],
   "source": [
    "# Create the early stopping callback\n",
    "early_stopping = tf.keras.callbacks.EarlyStopping(\n",
    "    monitor='val_loss',  # Monitor validation loss\n",
    "    patience=5,          # Stop after 5 epochs with no improvement\n",
    "    restore_best_weights=True  # Restore model weights from the best epoch\n",
    ")"
   ],
   "metadata": {
    "collapsed": false,
    "ExecuteTime": {
     "end_time": "2024-10-09T05:24:38.624488Z",
     "start_time": "2024-10-09T05:24:38.561539Z"
    }
   },
   "id": "5bcc03b2293583cd"
  },
  {
   "cell_type": "code",
   "execution_count": 43,
   "outputs": [],
   "source": [
    "# Estimating the Forecasting Model\n",
    "def train_lstm_model(train_data_scaled, lookback):\n",
    "    \"\"\"\n",
    "    Train LSTM neural network for stock return prediction.\n",
    "\n",
    "    Args:\n",
    "    train_data_scaled (DataFrame): Scaled training data.\n",
    "\n",
    "    Returns:\n",
    "    model: Trained LSTM model.\n",
    "    history: Training history.\n",
    "    \"\"\"\n",
    "\n",
    "    # Lookback period (number of timesteps)\n",
    "    n_features = len(train_data_scaled.columns) - 1  # Exclude the target column for input features\n",
    "\n",
    "    # Prepare the data using the lookback period\n",
    "    train_data_values = train_data_scaled.values\n",
    "    X_train, y_train = split_sequences(train_data_values, lookback, 1)\n",
    "\n",
    "    # Build the LSTM model\n",
    "    lstm_model = build_lstm_network(lookback, n_features)\n",
    "\n",
    "    start = time.time()\n",
    "\n",
    "    # Train the LSTM model\n",
    "    history = lstm_model.fit(\n",
    "        X_train,\n",
    "        y_train,\n",
    "        epochs=1000,\n",
    "        batch_size=16,\n",
    "        validation_split=0.4,\n",
    "        verbose=1,\n",
    "        shuffle=False,\n",
    "        callbacks=[early_stopping]\n",
    "    )\n",
    "    end = time.time()\n",
    "\n",
    "    print(f\"Training time: {end - start} seconds\")\n",
    "\n",
    "    return lstm_model, history"
   ],
   "metadata": {
    "collapsed": false,
    "ExecuteTime": {
     "end_time": "2024-10-09T05:24:39.460396Z",
     "start_time": "2024-10-09T05:24:39.391478Z"
    }
   },
   "id": "81025c73749c49a4"
  },
  {
   "cell_type": "markdown",
   "source": [],
   "metadata": {
    "collapsed": false
   },
   "id": "9874e23374d0a1a6"
  },
  {
   "cell_type": "markdown",
   "source": [
    "## Generating Forecasts"
   ],
   "metadata": {
    "collapsed": false
   },
   "id": "bded45a2d0b14125"
  },
  {
   "cell_type": "code",
   "execution_count": 44,
   "outputs": [],
   "source": [
    "# Forecasts from the trained models\n",
    "def generate_lstm_forecasts(lstm_model, test_data_scaled, lookback_period):\n",
    "    \"\"\"\n",
    "    Generate forecasts from the trained LSTM model.\n",
    "\n",
    "    Args:\n",
    "    lstm_model: Trained LSTM model.\n",
    "    test_data_scaled (DataFrame): Scaled test data.\n",
    "\n",
    "    Returns:\n",
    "    np.array: Forecasts from the LSTM model.\n",
    "    \"\"\"\n",
    "    \n",
    "    test_data_values = test_data_scaled.values\n",
    "    X_test, _ = split_sequences(test_data_values, lookback_period, 1)\n",
    "\n",
    "    predictions = lstm_model(X_test)\n",
    "\n",
    "    return predictions"
   ],
   "metadata": {
    "collapsed": false,
    "ExecuteTime": {
     "end_time": "2024-10-09T05:24:41.493916Z",
     "start_time": "2024-10-09T05:24:41.406485Z"
    }
   },
   "id": "114c0575fe2501c4"
  },
  {
   "cell_type": "markdown",
   "source": [],
   "metadata": {
    "collapsed": false
   },
   "id": "55173fc63292c907"
  },
  {
   "cell_type": "markdown",
   "source": [
    "## Evaluating the Forecasts"
   ],
   "metadata": {
    "collapsed": false
   },
   "id": "390c1dcdf8fe151e"
  },
  {
   "cell_type": "code",
   "execution_count": 45,
   "outputs": [],
   "source": [
    "# Evaluation of the models\n",
    "def evaluate_models(forecasts, test_data_scaled):\n",
    "    \"\"\"\n",
    "    Evaluate the models' performance using Mean Squared Error and Mean Absolute Error.\n",
    "\n",
    "    Args:\n",
    "    forecasts (Dict): Forecasts generated by each model.\n",
    "    test_data_scaled (DataFrame): Scaled test data.\n",
    "\n",
    "    Returns:\n",
    "    None\n",
    "    \"\"\"\n",
    "    model_name = 'LSTM_NN'\n",
    "\n",
    "    target = test_data_scaled[\"Target\"].values\n",
    "    mse = mean_squared_error(target, forecasts)\n",
    "    mae = mean_absolute_error(target, forecasts)\n",
    "    print(f\"{model_name}: MSE = {mse}, MAE = {mae}\")\n"
   ],
   "metadata": {
    "collapsed": false,
    "ExecuteTime": {
     "end_time": "2024-10-09T05:24:43.530792Z",
     "start_time": "2024-10-09T05:24:43.455899Z"
    }
   },
   "id": "3c5adeb5200c3e35"
  },
  {
   "cell_type": "code",
   "execution_count": 46,
   "outputs": [],
   "source": [
    "# Visualize the forecasts\n",
    "def plot_forecasts(forecasts, test_data_scaled):\n",
    "    \"\"\"\n",
    "    Plot the forecasts alongside the observed values.\n",
    "\n",
    "    Args:\n",
    "    forecasts (Dict): Forecasts generated by each model.\n",
    "    test_data_scaled (DataFrame): Scaled test data.\n",
    "\n",
    "    Returns:\n",
    "    None\n",
    "    \"\"\"\n",
    "    model_name = 'LSTM_NN'\n",
    "\n",
    "    plt.figure()\n",
    "    plt.plot(test_data_scaled.index, test_data_scaled[\"Target\"], linewidth=1, color='black', label='Observed')\n",
    "    plt.plot(test_data_scaled.index, forecasts, '--', linewidth=1, label=model_name)\n",
    "    plt.title('Return Forecasts')\n",
    "    plt.xlabel('Date')\n",
    "    plt.ylabel('Estimated Returns')\n",
    "    plt.legend()\n",
    "    plt.show()"
   ],
   "metadata": {
    "collapsed": false,
    "ExecuteTime": {
     "end_time": "2024-10-09T05:24:44.293394Z",
     "start_time": "2024-10-09T05:24:44.200470Z"
    }
   },
   "id": "778139e9206c46fc"
  },
  {
   "cell_type": "markdown",
   "source": [
    "## Execute the Code\n",
    "\n"
   ],
   "metadata": {
    "collapsed": false
   },
   "id": "af1d7fb39b5e1747"
  },
  {
   "cell_type": "code",
   "execution_count": 47,
   "outputs": [
    {
     "name": "stdout",
     "output_type": "stream",
     "text": [
      "Be patient: loading from FRED (2 minutes)\n",
      "Done\n",
      "Epoch 1/1000\n",
      "12/12 [==============================] - 20s 290ms/step - loss: 0.8528 - val_loss: 1.2788\n",
      "Epoch 2/1000\n",
      "12/12 [==============================] - 0s 35ms/step - loss: 0.8244 - val_loss: 1.2711\n",
      "Epoch 3/1000\n",
      "12/12 [==============================] - 0s 33ms/step - loss: 0.8070 - val_loss: 1.2659\n",
      "Epoch 4/1000\n",
      "12/12 [==============================] - 0s 33ms/step - loss: 0.7916 - val_loss: 1.2621\n",
      "Epoch 5/1000\n",
      "12/12 [==============================] - 0s 34ms/step - loss: 0.7769 - val_loss: 1.2590\n",
      "Epoch 6/1000\n",
      "12/12 [==============================] - 0s 33ms/step - loss: 0.7645 - val_loss: 1.2552\n",
      "Epoch 7/1000\n",
      "12/12 [==============================] - 0s 38ms/step - loss: 0.7535 - val_loss: 1.2507\n",
      "Epoch 8/1000\n",
      "12/12 [==============================] - 0s 36ms/step - loss: 0.7428 - val_loss: 1.2462\n",
      "Epoch 9/1000\n",
      "12/12 [==============================] - 0s 36ms/step - loss: 0.7343 - val_loss: 1.2416\n",
      "Epoch 10/1000\n",
      "12/12 [==============================] - 0s 35ms/step - loss: 0.7271 - val_loss: 1.2391\n",
      "Epoch 11/1000\n",
      "12/12 [==============================] - 0s 37ms/step - loss: 0.7260 - val_loss: 1.2327\n",
      "Epoch 12/1000\n",
      "12/12 [==============================] - 0s 40ms/step - loss: 0.7194 - val_loss: 1.2333\n",
      "Epoch 13/1000\n",
      "12/12 [==============================] - 1s 45ms/step - loss: 0.7238 - val_loss: 1.2207\n",
      "Epoch 14/1000\n",
      "12/12 [==============================] - 1s 50ms/step - loss: 0.7416 - val_loss: 1.2144\n",
      "Epoch 15/1000\n",
      "12/12 [==============================] - 1s 82ms/step - loss: 0.7118 - val_loss: 1.2069\n",
      "Epoch 16/1000\n",
      "12/12 [==============================] - 1s 47ms/step - loss: 0.7010 - val_loss: 1.2114\n",
      "Epoch 17/1000\n",
      "12/12 [==============================] - 0s 38ms/step - loss: 0.6956 - val_loss: 1.2087\n",
      "Epoch 18/1000\n",
      "12/12 [==============================] - 0s 38ms/step - loss: 0.6927 - val_loss: 1.1960\n",
      "Epoch 19/1000\n",
      "12/12 [==============================] - 0s 38ms/step - loss: 0.6844 - val_loss: 1.1995\n",
      "Epoch 20/1000\n",
      "12/12 [==============================] - 0s 37ms/step - loss: 0.7126 - val_loss: 1.2107\n",
      "Epoch 21/1000\n",
      "12/12 [==============================] - 0s 36ms/step - loss: 0.6866 - val_loss: 1.2011\n",
      "Epoch 22/1000\n",
      "12/12 [==============================] - 0s 37ms/step - loss: 0.6920 - val_loss: 1.1939\n",
      "Epoch 23/1000\n",
      "12/12 [==============================] - 0s 36ms/step - loss: 0.6967 - val_loss: 1.1967\n",
      "Epoch 24/1000\n",
      "12/12 [==============================] - 0s 35ms/step - loss: 0.6672 - val_loss: 1.1979\n",
      "Epoch 25/1000\n",
      "12/12 [==============================] - 0s 37ms/step - loss: 0.6700 - val_loss: 1.1819\n",
      "Epoch 26/1000\n",
      "12/12 [==============================] - 0s 33ms/step - loss: 0.6917 - val_loss: 1.1934\n",
      "Epoch 27/1000\n",
      "12/12 [==============================] - 0s 32ms/step - loss: 0.6609 - val_loss: 1.1974\n",
      "Epoch 28/1000\n",
      "12/12 [==============================] - 0s 32ms/step - loss: 0.6641 - val_loss: 1.1968\n",
      "Epoch 29/1000\n",
      "12/12 [==============================] - 0s 38ms/step - loss: 0.6495 - val_loss: 1.1912\n",
      "Epoch 30/1000\n",
      "12/12 [==============================] - 0s 35ms/step - loss: 0.6373 - val_loss: 1.1928\n",
      "Training time: 33.47953701019287 seconds\n",
      "LSTM_NN: MSE = 1.250653936163097, MAE = 0.7796845004417856\n"
     ]
    },
    {
     "data": {
      "text/plain": "<Figure size 640x480 with 1 Axes>",
      "image/png": "[encoded data removed]"
     },
     "metadata": {},
     "output_type": "display_data"
    }
   ],
   "source": [
    "# Define paths for the dataset\n",
    "fred_path = \"https://files.stlouisfed.org/files/htdocs/fred-md/monthly/current.csv\"\n",
    "local_file_path = Path(\"data/current.csv\")\n",
    "\n",
    "# Load the data\n",
    "df = load_data(local_file_path, fred_path)\n",
    "\n",
    "# Preprocess the data\n",
    "df = preprocess_data(df)\n",
    "\n",
    "# Split and scale the data\n",
    "train_data_scaled, test_data_scaled = split_and_scale_data(df)\n",
    "\n",
    "# Train models\n",
    "input_dim = len(train_data_scaled.columns) - 1  # Exclude the target column for input dimensions\n",
    "lstm_model, lstm_history = train_lstm_model(train_data_scaled, lookback_period)\n",
    "\n",
    "# Generate forecasts\n",
    "lstm_forecasts_mean = generate_lstm_forecasts(lstm_model, test_data_scaled, lookback_period)\n",
    "\n",
    "# Evaluate models\n",
    "evaluate_models(lstm_forecasts_mean, test_data_scaled[lookback_period:])\n",
    "\n",
    "# Plot forecasts\n",
    "plot_forecasts(lstm_forecasts_mean, test_data_scaled[lookback_period:])\n"
   ],
   "metadata": {
    "collapsed": false,
    "ExecuteTime": {
     "end_time": "2024-10-09T05:25:54.951544Z",
     "start_time": "2024-10-09T05:25:15.743551Z"
    }
   },
   "id": "860a164fc625033d"
  },
  {
   "cell_type": "code",
   "execution_count": 48,
   "outputs": [
    {
     "data": {
      "text/plain": "<Figure size 640x480 with 1 Axes>",
      "image/png": "[encoded data removed]"
     },
     "metadata": {},
     "output_type": "display_data"
    }
   ],
   "source": [
    "plt.plot(lstm_history.history['loss'], label='Training Loss')\n",
    "if 'val_loss' in lstm_history.history:\n",
    "    plt.plot(lstm_history.history['val_loss'], label='Validation Loss')\n",
    "plt.title('Model Loss')\n",
    "plt.ylabel('Loss')\n",
    "plt.xlabel('Epoch')\n",
    "plt.legend(loc='upper right')\n",
    "plt.show()"
   ],
   "metadata": {
    "collapsed": false,
    "ExecuteTime": {
     "end_time": "2024-10-09T05:25:55.658886Z",
     "start_time": "2024-10-09T05:25:55.051654Z"
    }
   },
   "id": "8e767856ac077742"
  },
  {
   "cell_type": "markdown",
   "source": [
    "###### Notes:\n",
    "\n",
    "An LSTM model captures temporal dependencies and patterns over time, providing a built-in regularization effect. This effect becomes stonger as the lookback period is extended. In contrast, a feedforward NN may overfit by treating each input independently, ignoring temporal context.\n",
    "\n",
    "You can see this if you increase the lookback period and disable the early stopping algorithm."
   ],
   "metadata": {
    "collapsed": false
   },
   "id": "4a1d70dbfb685680"
  },
  {
   "cell_type": "code",
   "execution_count": null,
   "outputs": [],
   "source": [],
   "metadata": {
    "collapsed": false
   },
   "id": "d8137ed67fcd6ac5"
  }
 ],
 "metadata": {
  "kernelspec": {
   "display_name": "Python 3",
   "language": "python",
   "name": "python3"
  },
  "language_info": {
   "codemirror_mode": {
    "name": "ipython",
    "version": 2
   },
   "file_extension": ".py",
   "mimetype": "text/x-python",
   "name": "python",
   "nbconvert_exporter": "python",
   "pygments_lexer": "ipython2",
   "version": "2.7.6"
  }
 },
 "nbformat": 4,
 "nbformat_minor": 5
}
