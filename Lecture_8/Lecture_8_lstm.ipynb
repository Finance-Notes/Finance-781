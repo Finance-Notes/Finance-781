{
 "cells": [
  {
   "cell_type": "markdown",
   "source": [
    "## Forecasting - OLS, LASSO, PCA, Trees, Forests, Networks"
   ],
   "metadata": {
    "collapsed": false
   },
   "id": "83d64a5ecd661aef"
  },
  {
   "cell_type": "code",
   "execution_count": 3,
   "outputs": [],
   "source": [
    "# Import necessary libraries\n",
    "import os\n",
    "import random\n",
    "import time\n",
    "from pathlib import Path\n",
    "import pandas as pd\n",
    "import numpy as np\n",
    "import matplotlib.pyplot as plt\n",
    "\n",
    "from sklearn.preprocessing import StandardScaler\n",
    "from sklearn.metrics import mean_squared_error, mean_absolute_error\n",
    "\n",
    "import tensorflow as tf\n",
    "from tensorflow.keras.layers import Input, Dense, LSTM\n",
    "from tensorflow.keras.models import Model\n",
    "\n",
    "import ssl\n",
    "ssl._create_default_https_context = ssl._create_stdlib_context\n",
    "\n",
    "# Setting a seed for reproducibility\n",
    "np.random.seed(0)\n",
    "tf.random.set_seed(0)\n",
    "random.seed(0)\n",
    "\n",
    "\n",
    "lookback_period = 6"
   ],
   "metadata": {
    "collapsed": false,
    "ExecuteTime": {
     "end_time": "2024-10-03T20:01:34.818559Z",
     "start_time": "2024-10-03T20:01:34.805827Z"
    }
   },
   "id": "483d2599e74b321e"
  },
  {
   "cell_type": "code",
   "execution_count": 4,
   "outputs": [
    {
     "name": "stdout",
     "output_type": "stream",
     "text": [
      "No GPU\n"
     ]
    }
   ],
   "source": [
    "os.environ['TF_DETERMINISTIC_OPS'] = '1'\n",
    "\n",
    "# Ensure GPU is visible\n",
    "gpus = tf.config.list_physical_devices('GPU')\n",
    "if gpus:\n",
    "    try:\n",
    "        for gpu in gpus:\n",
    "            tf.config.experimental.set_memory_growth(gpu, True)\n",
    "            print('Using GPU')\n",
    "    except RuntimeError as e:\n",
    "        print(e)\n",
    "else:\n",
    "    print('No GPU')"
   ],
   "metadata": {
    "collapsed": false,
    "ExecuteTime": {
     "end_time": "2024-10-03T20:01:35.484798Z",
     "start_time": "2024-10-03T20:01:35.477285Z"
    }
   },
   "id": "19d78d8b07cffa9a"
  },
  {
   "cell_type": "markdown",
   "source": [
    "## Preprocessing"
   ],
   "metadata": {
    "collapsed": false
   },
   "id": "9666a3180ab3f2eb"
  },
  {
   "cell_type": "markdown",
   "source": [
    "#### Step 1: Download the Data"
   ],
   "metadata": {
    "collapsed": false
   },
   "id": "be450b84ab9de7a6"
  },
  {
   "cell_type": "code",
   "execution_count": 5,
   "outputs": [],
   "source": [
    "# Retrieve the data\n",
    "def load_data(local_file_path: Path, fred_path: str):\n",
    "    \"\"\"\n",
    "    Function to load data either from a local file or from FRED if the file doesn't exist locally.\n",
    "\n",
    "    Args:\n",
    "    local_file_path (Path): Local path to the dataset.\n",
    "    fred_path (str): URL to fetch the dataset from FRED.\n",
    "\n",
    "    Returns:\n",
    "    DataFrame: Loaded dataset.\n",
    "    \"\"\"\n",
    "    if local_file_path.is_file():\n",
    "        print(\"Local file found\")\n",
    "        df = pd.read_csv(local_file_path)\n",
    "    else:\n",
    "        print(\"Be patient: loading from FRED (2 minutes)\")\n",
    "        df = pd.read_csv(fred_path)\n",
    "        print(\"Done\")\n",
    "\n",
    "    # Drop unnecessary row\n",
    "    df.drop(0, inplace=True)\n",
    "\n",
    "    # Set index to date and format it as datetime\n",
    "    df = df.set_index(\"sasdate\", drop=True)\n",
    "    df.index = pd.to_datetime(df.index, format='%m/%d/%Y')\n",
    "\n",
    "    return df\n"
   ],
   "metadata": {
    "collapsed": false,
    "ExecuteTime": {
     "end_time": "2024-10-03T20:01:36.683070Z",
     "start_time": "2024-10-03T20:01:36.677267Z"
    }
   },
   "id": "1aeb5e10764b8159"
  },
  {
   "cell_type": "markdown",
   "source": [
    "#### Step 2: Define the target variable"
   ],
   "metadata": {
    "collapsed": false
   },
   "id": "a6bb6a1e7734db85"
  },
  {
   "cell_type": "code",
   "execution_count": 6,
   "outputs": [],
   "source": [
    "# Define the target variable (S&P 500 Returns)\n",
    "def preprocess_data(df):\n",
    "    \"\"\"\n",
    "    Preprocess the data by creating the target variable (S&P 500 log returns) and removing NaNs.\n",
    "\n",
    "    Args:\n",
    "    df (DataFrame): Data containing S&P 500 returns.\n",
    "\n",
    "    Returns:\n",
    "    DataFrame: Processed data with target variable.\n",
    "    \"\"\"\n",
    "    df['Target'] = (np.log(df['S&P 500']/df['S&P 500'].shift(1)))                   # .shift(1)\n",
    "    df['Target'] = df['Target'].shift(periods=-1)\n",
    "    df.drop('S&P 500', axis=1, inplace=True)\n",
    "    df = df.apply(lambda x: x.fillna(x.rolling(window=6, min_periods=1).mean()))\n",
    "    df.dropna(inplace=True)\n",
    "\n",
    "    return df"
   ],
   "metadata": {
    "collapsed": false,
    "ExecuteTime": {
     "end_time": "2024-10-03T20:01:37.468452Z",
     "start_time": "2024-10-03T20:01:37.461256Z"
    }
   },
   "id": "1ea94ae9bfb09971"
  },
  {
   "cell_type": "markdown",
   "source": [
    "#### Step 3: Scale and Split the Data"
   ],
   "metadata": {
    "collapsed": false
   },
   "id": "54c96e142a387628"
  },
  {
   "cell_type": "code",
   "execution_count": 7,
   "outputs": [],
   "source": [
    "# Creating training and test sets, standardizing the data\n",
    "def split_and_scale_data(df, lookback=6):\n",
    "    \"\"\"\n",
    "    Splits the data into training and test sets and scales them, ensuring continuous sequences for LSTM.\n",
    "\n",
    "    Args:\n",
    "    df (DataFrame): Preprocessed data.\n",
    "    lookback (int): The number of timesteps to look back (i.e., the size of the lookback window).\n",
    "\n",
    "    Returns:\n",
    "    Tuple: Scaled training and test datasets.\n",
    "    \"\"\"\n",
    "    # Use 80% of the data for training\n",
    "    split_index = int(len(df) * 0.8)\n",
    "\n",
    "    # Adjust split to allow overlap with the lookback period between train and test sets\n",
    "    train_data = df.iloc[:split_index]\n",
    "    test_data = df.iloc[split_index - lookback:]  # Allow overlap by the lookback period\n",
    "\n",
    "    # Standardize the data using the training set for fitting the scaler\n",
    "    scaler = StandardScaler()\n",
    "    train_data_scaled = pd.DataFrame(scaler.fit_transform(train_data), index=train_data.index,\n",
    "                                     columns=train_data.columns)\n",
    "    test_data_scaled = pd.DataFrame(scaler.transform(test_data), index=test_data.index, columns=test_data.columns)\n",
    "\n",
    "    return train_data_scaled, test_data_scaled"
   ],
   "metadata": {
    "collapsed": false,
    "ExecuteTime": {
     "end_time": "2024-10-03T20:01:38.257424Z",
     "start_time": "2024-10-03T20:01:38.250384Z"
    }
   },
   "id": "fe01d9940304a404"
  },
  {
   "cell_type": "code",
   "outputs": [],
   "source": [
    "def split_sequences(dataset, lookback, steps_out):\n",
    "    \"\"\"\n",
    "    Split the dataset into input sequences (X) and corresponding outputs (y), ensuring continuous forecasting.\n",
    "\n",
    "    Args:\n",
    "    dataset (DataFrame): The input dataset.\n",
    "    steps_in (int): Number of timesteps in the input sequence (lookback period).\n",
    "    steps_out (int): Number of output timesteps (forecast horizon).\n",
    "\n",
    "    Returns:\n",
    "    Tuple: Sequences of input data (X) and corresponding targets (y).\n",
    "    \"\"\"\n",
    "    X, y = list(), list()\n",
    "\n",
    "    # Ensure continuous sequences\n",
    "    for i in range(len(dataset) - lookback):\n",
    "        end_ix = i + lookback\n",
    "        out_end_ix = end_ix + steps_out - 1\n",
    "\n",
    "        # Prevent out-of-bounds error\n",
    "        if out_end_ix >= len(dataset):\n",
    "            break\n",
    "\n",
    "        # Create input-output pairs\n",
    "        seq_x = dataset[i:end_ix, :-1]  # input sequence (all features except the target)\n",
    "        seq_y = dataset[end_ix:out_end_ix + 1, -1]  # output sequence (target variable)\n",
    "\n",
    "        X.append(seq_x)\n",
    "        y.append(seq_y[-1])  # Use the last value in the output window as the target\n",
    "\n",
    "    return np.array(X), np.array(y)"
   ],
   "metadata": {
    "collapsed": false,
    "ExecuteTime": {
     "end_time": "2024-10-03T20:01:38.726695Z",
     "start_time": "2024-10-03T20:01:38.719829Z"
    }
   },
   "id": "13b774f75157c9c2",
   "execution_count": 8
  },
  {
   "cell_type": "markdown",
   "source": [
    "## Defining the Models"
   ],
   "metadata": {
    "collapsed": false
   },
   "id": "87359c389f0a41a5"
  },
  {
   "cell_type": "markdown",
   "source": [
    "#### The NN architecture\n",
    "\n",
    "\n",
    "Beginning with the architecture from last week"
   ],
   "metadata": {
    "collapsed": false
   },
   "id": "59b60a36ad2f96df"
  },
  {
   "cell_type": "code",
   "execution_count": 9,
   "outputs": [],
   "source": [
    "# Define the LSTM network model\n",
    "def build_lstm_network(lookback, n_features):\n",
    "    \"\"\"\n",
    "    Function to build an LSTM neural network model for regression tasks.\n",
    "\n",
    "    Args:\n",
    "    n_steps_in (int): Number of timesteps (lookback period).\n",
    "    n_features (int): Number of features (input dimension).\n",
    "\n",
    "    Returns:\n",
    "    model: Compiled LSTM neural network model.\n",
    "    \"\"\"\n",
    "    inputs = Input(shape=(lookback, n_features))\n",
    "    x = LSTM(16, return_sequences=True)(inputs)\n",
    "    x = LSTM(8, return_sequences=True)(x)\n",
    "    x = LSTM(4, return_sequences=False)(x)\n",
    "    outputs = Dense(1, activation='linear')(x)\n",
    "\n",
    "    model = Model(inputs=inputs, outputs=outputs)\n",
    "\n",
    "    # Compile the model\n",
    "    model.compile(optimizer=tf.keras.optimizers.Adam(learning_rate=0.001),\n",
    "                  loss='mean_squared_error')\n",
    "\n",
    "    return model"
   ],
   "metadata": {
    "collapsed": false,
    "ExecuteTime": {
     "end_time": "2024-10-03T20:01:39.876061Z",
     "start_time": "2024-10-03T20:01:39.870380Z"
    }
   },
   "id": "727eb6eb1bdbb27a"
  },
  {
   "cell_type": "markdown",
   "source": [],
   "metadata": {
    "collapsed": false
   },
   "id": "f0e7f70bcaa067b5"
  },
  {
   "cell_type": "markdown",
   "source": [
    "## Estimating the Models"
   ],
   "metadata": {
    "collapsed": false
   },
   "id": "6557462b681f9db9"
  },
  {
   "cell_type": "markdown",
   "source": [
    "#### Callbacks"
   ],
   "metadata": {
    "collapsed": false
   },
   "id": "b91ba168b4536647"
  },
  {
   "cell_type": "code",
   "execution_count": 10,
   "outputs": [],
   "source": [
    "# Create the early stopping callback\n",
    "early_stopping = tf.keras.callbacks.EarlyStopping(\n",
    "    monitor='val_loss',  # Monitor validation loss\n",
    "    patience=5,          # Stop after 5 epochs with no improvement\n",
    "    restore_best_weights=True  # Restore model weights from the best epoch\n",
    ")"
   ],
   "metadata": {
    "collapsed": false,
    "ExecuteTime": {
     "end_time": "2024-10-03T20:01:41.651051Z",
     "start_time": "2024-10-03T20:01:41.623159Z"
    }
   },
   "id": "5bcc03b2293583cd"
  },
  {
   "cell_type": "code",
   "execution_count": 11,
   "outputs": [],
   "source": [
    "# Estimating the Forecasting Model\n",
    "def train_lstm_model(train_data_scaled, lookback):\n",
    "    \"\"\"\n",
    "    Train LSTM neural network for stock return prediction.\n",
    "\n",
    "    Args:\n",
    "    train_data_scaled (DataFrame): Scaled training data.\n",
    "\n",
    "    Returns:\n",
    "    model: Trained LSTM model.\n",
    "    history: Training history.\n",
    "    \"\"\"\n",
    "\n",
    "    # Lookback period (number of timesteps)\n",
    "    n_features = len(train_data_scaled.columns) - 1  # Exclude the target column for input features\n",
    "\n",
    "    # Prepare the data using the lookback period\n",
    "    train_data_values = train_data_scaled.values\n",
    "    X_train, y_train = split_sequences(train_data_values, lookback, 1)\n",
    "\n",
    "    # Build the LSTM model\n",
    "    lstm_model = build_lstm_network(lookback, n_features)\n",
    "\n",
    "    start = time.time()\n",
    "\n",
    "    # Train the LSTM model\n",
    "    history = lstm_model.fit(\n",
    "        X_train,\n",
    "        y_train,\n",
    "        epochs=1000,\n",
    "        batch_size=16,\n",
    "        validation_split=0.4,\n",
    "        verbose=1,\n",
    "        shuffle=False,\n",
    "        callbacks=[early_stopping]\n",
    "    )\n",
    "    end = time.time()\n",
    "\n",
    "    print(f\"Training time: {end - start} seconds\")\n",
    "\n",
    "    return lstm_model, history"
   ],
   "metadata": {
    "collapsed": false,
    "ExecuteTime": {
     "end_time": "2024-10-03T20:01:42.051458Z",
     "start_time": "2024-10-03T20:01:42.046304Z"
    }
   },
   "id": "81025c73749c49a4"
  },
  {
   "cell_type": "markdown",
   "source": [],
   "metadata": {
    "collapsed": false
   },
   "id": "9874e23374d0a1a6"
  },
  {
   "cell_type": "markdown",
   "source": [
    "## Generating Forecasts"
   ],
   "metadata": {
    "collapsed": false
   },
   "id": "bded45a2d0b14125"
  },
  {
   "cell_type": "code",
   "execution_count": 12,
   "outputs": [],
   "source": [
    "# Forecasts from the trained models\n",
    "def generate_lstm_forecasts(lstm_model, test_data_scaled):\n",
    "    \"\"\"\n",
    "    Generate forecasts from the trained LSTM model.\n",
    "\n",
    "    Args:\n",
    "    lstm_model: Trained LSTM model.\n",
    "    test_data_scaled (DataFrame): Scaled test data.\n",
    "\n",
    "    Returns:\n",
    "    np.array: Forecasts from the LSTM model.\n",
    "    \"\"\"\n",
    "    n_steps_in = lookback_period  # Lookback period\n",
    "    test_data_values = test_data_scaled.values\n",
    "    X_test, _ = split_sequences(test_data_values, n_steps_in, 1)\n",
    "\n",
    "    predictions = lstm_model(X_test)\n",
    "\n",
    "    return predictions"
   ],
   "metadata": {
    "collapsed": false,
    "ExecuteTime": {
     "end_time": "2024-10-03T20:01:43.538833Z",
     "start_time": "2024-10-03T20:01:43.517904Z"
    }
   },
   "id": "114c0575fe2501c4"
  },
  {
   "cell_type": "markdown",
   "source": [],
   "metadata": {
    "collapsed": false
   },
   "id": "55173fc63292c907"
  },
  {
   "cell_type": "markdown",
   "source": [
    "## Evaluating the Forecasts"
   ],
   "metadata": {
    "collapsed": false
   },
   "id": "390c1dcdf8fe151e"
  },
  {
   "cell_type": "code",
   "execution_count": 13,
   "outputs": [],
   "source": [
    "# Evaluation of the models\n",
    "def evaluate_models(forecasts, test_data_scaled):\n",
    "    \"\"\"\n",
    "    Evaluate the models' performance using Mean Squared Error and Mean Absolute Error.\n",
    "\n",
    "    Args:\n",
    "    forecasts (Dict): Forecasts generated by each model.\n",
    "    test_data_scaled (DataFrame): Scaled test data.\n",
    "\n",
    "    Returns:\n",
    "    None\n",
    "    \"\"\"\n",
    "    model_name = 'LSTM_NN'\n",
    "\n",
    "    target = test_data_scaled[\"Target\"].values\n",
    "    mse = mean_squared_error(target, forecasts)\n",
    "    mae = mean_absolute_error(target, forecasts)\n",
    "    print(f\"{model_name}: MSE = {mse}, MAE = {mae}\")\n"
   ],
   "metadata": {
    "collapsed": false,
    "ExecuteTime": {
     "end_time": "2024-10-03T20:01:44.866752Z",
     "start_time": "2024-10-03T20:01:44.859971Z"
    }
   },
   "id": "3c5adeb5200c3e35"
  },
  {
   "cell_type": "code",
   "execution_count": 14,
   "outputs": [],
   "source": [
    "# Visualize the forecasts\n",
    "def plot_forecasts(forecasts, test_data_scaled):\n",
    "    \"\"\"\n",
    "    Plot the forecasts alongside the observed values.\n",
    "\n",
    "    Args:\n",
    "    forecasts (Dict): Forecasts generated by each model.\n",
    "    test_data_scaled (DataFrame): Scaled test data.\n",
    "\n",
    "    Returns:\n",
    "    None\n",
    "    \"\"\"\n",
    "    model_name = 'LSTM_NN'\n",
    "\n",
    "    plt.figure()\n",
    "    plt.plot(test_data_scaled.index, test_data_scaled[\"Target\"], linewidth=1, color='black', label='Observed')\n",
    "    plt.plot(test_data_scaled.index, forecasts, '--', linewidth=1, label=model_name)\n",
    "    plt.title('Return Forecasts')\n",
    "    plt.xlabel('Date')\n",
    "    plt.ylabel('Estimated Returns')\n",
    "    plt.legend()\n",
    "    plt.show()"
   ],
   "metadata": {
    "collapsed": false,
    "ExecuteTime": {
     "end_time": "2024-10-03T20:01:45.259054Z",
     "start_time": "2024-10-03T20:01:45.251215Z"
    }
   },
   "id": "778139e9206c46fc"
  },
  {
   "cell_type": "markdown",
   "source": [
    "## Execute the Code\n",
    "\n"
   ],
   "metadata": {
    "collapsed": false
   },
   "id": "af1d7fb39b5e1747"
  },
  {
   "cell_type": "code",
   "execution_count": 15,
   "outputs": [
    {
     "name": "stdout",
     "output_type": "stream",
     "text": [
      "Be patient: loading from FRED (2 minutes)\n",
      "Done\n",
      "Epoch 1/1000\n",
      "12/12 [==============================] - 4s 86ms/step - loss: 0.8528 - val_loss: 1.2788\n",
      "Epoch 2/1000\n",
      "12/12 [==============================] - 0s 7ms/step - loss: 0.8244 - val_loss: 1.2711\n",
      "Epoch 3/1000\n",
      "12/12 [==============================] - 0s 7ms/step - loss: 0.8070 - val_loss: 1.2659\n",
      "Epoch 4/1000\n",
      "12/12 [==============================] - 0s 7ms/step - loss: 0.7916 - val_loss: 1.2621\n",
      "Epoch 5/1000\n",
      "12/12 [==============================] - 0s 7ms/step - loss: 0.7769 - val_loss: 1.2590\n",
      "Epoch 6/1000\n",
      "12/12 [==============================] - 0s 7ms/step - loss: 0.7645 - val_loss: 1.2552\n",
      "Epoch 7/1000\n",
      "12/12 [==============================] - 0s 7ms/step - loss: 0.7535 - val_loss: 1.2507\n",
      "Epoch 8/1000\n",
      "12/12 [==============================] - 0s 7ms/step - loss: 0.7428 - val_loss: 1.2462\n",
      "Epoch 9/1000\n",
      "12/12 [==============================] - 0s 7ms/step - loss: 0.7343 - val_loss: 1.2416\n",
      "Epoch 10/1000\n",
      "12/12 [==============================] - 0s 7ms/step - loss: 0.7271 - val_loss: 1.2391\n",
      "Epoch 11/1000\n",
      "12/12 [==============================] - 0s 7ms/step - loss: 0.7260 - val_loss: 1.2327\n",
      "Epoch 12/1000\n",
      "12/12 [==============================] - 0s 7ms/step - loss: 0.7194 - val_loss: 1.2333\n",
      "Epoch 13/1000\n",
      "12/12 [==============================] - 0s 7ms/step - loss: 0.7238 - val_loss: 1.2207\n",
      "Epoch 14/1000\n",
      "12/12 [==============================] - 0s 7ms/step - loss: 0.7416 - val_loss: 1.2144\n",
      "Epoch 15/1000\n",
      "12/12 [==============================] - 0s 8ms/step - loss: 0.7118 - val_loss: 1.2069\n",
      "Epoch 16/1000\n",
      "12/12 [==============================] - 0s 7ms/step - loss: 0.7010 - val_loss: 1.2114\n",
      "Epoch 17/1000\n",
      "12/12 [==============================] - 0s 7ms/step - loss: 0.6956 - val_loss: 1.2087\n",
      "Epoch 18/1000\n",
      "12/12 [==============================] - 0s 7ms/step - loss: 0.6927 - val_loss: 1.1960\n",
      "Epoch 19/1000\n",
      "12/12 [==============================] - 0s 7ms/step - loss: 0.6844 - val_loss: 1.1995\n",
      "Epoch 20/1000\n",
      "12/12 [==============================] - 0s 7ms/step - loss: 0.7126 - val_loss: 1.2107\n",
      "Epoch 21/1000\n",
      "12/12 [==============================] - 0s 7ms/step - loss: 0.6866 - val_loss: 1.2011\n",
      "Epoch 22/1000\n",
      "12/12 [==============================] - 0s 7ms/step - loss: 0.6922 - val_loss: 1.1940\n",
      "Epoch 23/1000\n",
      "12/12 [==============================] - 0s 7ms/step - loss: 0.6969 - val_loss: 1.1968\n",
      "Epoch 24/1000\n",
      "12/12 [==============================] - 0s 7ms/step - loss: 0.6670 - val_loss: 1.1978\n",
      "Epoch 25/1000\n",
      "12/12 [==============================] - 0s 7ms/step - loss: 0.6677 - val_loss: 1.1818\n",
      "Epoch 26/1000\n",
      "12/12 [==============================] - 0s 6ms/step - loss: 0.6929 - val_loss: 1.1937\n",
      "Epoch 27/1000\n",
      "12/12 [==============================] - 0s 7ms/step - loss: 0.6616 - val_loss: 1.1974\n",
      "Epoch 28/1000\n",
      "12/12 [==============================] - 0s 7ms/step - loss: 0.6629 - val_loss: 1.1966\n",
      "Epoch 29/1000\n",
      "12/12 [==============================] - 0s 7ms/step - loss: 0.6518 - val_loss: 1.1908\n",
      "Epoch 30/1000\n",
      "12/12 [==============================] - 0s 7ms/step - loss: 0.6412 - val_loss: 1.1934\n",
      "Training time: 7.041681289672852 seconds\n",
      "LSTM_NN: MSE = 1.2505984957922165, MAE = 0.7798416562102835\n"
     ]
    },
    {
     "data": {
      "text/plain": "<Figure size 640x480 with 1 Axes>",
      "image/png": "[encoded data removed]"
     },
     "metadata": {},
     "output_type": "display_data"
    }
   ],
   "source": [
    "# Define paths for the dataset\n",
    "fred_path = \"https://files.stlouisfed.org/files/htdocs/fred-md/monthly/current.csv\"\n",
    "local_file_path = Path(\"data/current.csv\")\n",
    "\n",
    "# Load the data\n",
    "df = load_data(local_file_path, fred_path)\n",
    "\n",
    "# Preprocess the data\n",
    "df = preprocess_data(df)\n",
    "\n",
    "# Split and scale the data\n",
    "train_data_scaled, test_data_scaled = split_and_scale_data(df)\n",
    "\n",
    "# Train models\n",
    "input_dim = len(train_data_scaled.columns) - 1  # Exclude the target column for input dimensions\n",
    "lstm_model, lstm_history = train_lstm_model(train_data_scaled, lookback_period)\n",
    "\n",
    "# Generate forecasts\n",
    "lstm_forecasts_mean = generate_lstm_forecasts(lstm_model, test_data_scaled)\n",
    "\n",
    "# Evaluate models\n",
    "evaluate_models(lstm_forecasts_mean, test_data_scaled[lookback_period:])\n",
    "\n",
    "# Plot forecasts\n",
    "plot_forecasts(lstm_forecasts_mean, test_data_scaled[lookback_period:])\n"
   ],
   "metadata": {
    "collapsed": false,
    "ExecuteTime": {
     "end_time": "2024-10-03T20:01:55.640611Z",
     "start_time": "2024-10-03T20:01:46.112255Z"
    }
   },
   "id": "860a164fc625033d"
  },
  {
   "cell_type": "code",
   "execution_count": 16,
   "outputs": [
    {
     "data": {
      "text/plain": "<Figure size 640x480 with 1 Axes>",
      "image/png": "[encoded data removed]"
     },
     "metadata": {},
     "output_type": "display_data"
    }
   ],
   "source": [
    "plt.plot(lstm_history.history['loss'], label='Training Loss')\n",
    "if 'val_loss' in lstm_history.history:\n",
    "    plt.plot(lstm_history.history['val_loss'], label='Validation Loss')\n",
    "plt.title('Model Loss')\n",
    "plt.ylabel('Loss')\n",
    "plt.xlabel('Epoch')\n",
    "plt.legend(loc='upper right')\n",
    "plt.show()"
   ],
   "metadata": {
    "collapsed": false,
    "ExecuteTime": {
     "end_time": "2024-10-03T20:01:55.815872Z",
     "start_time": "2024-10-03T20:01:55.643506Z"
    }
   },
   "id": "8e767856ac077742"
  },
  {
   "cell_type": "code",
   "outputs": [],
   "source": [],
   "metadata": {
    "collapsed": false
   },
   "id": "72abc1e579a280f4"
  }
 ],
 "metadata": {
  "kernelspec": {
   "display_name": "Python 3",
   "language": "python",
   "name": "python3"
  },
  "language_info": {
   "codemirror_mode": {
    "name": "ipython",
    "version": 2
   },
   "file_extension": ".py",
   "mimetype": "text/x-python",
   "name": "python",
   "nbconvert_exporter": "python",
   "pygments_lexer": "ipython2",
   "version": "2.7.6"
  }
 },
 "nbformat": 4,
 "nbformat_minor": 5
}
