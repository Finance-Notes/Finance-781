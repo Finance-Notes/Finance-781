{
 "cells": [
  {
   "cell_type": "markdown",
   "source": [
    "## Forecasting - OLS, LASSO, PCA, Trees, Forests, Networks"
   ],
   "metadata": {
    "collapsed": false
   },
   "id": "83d64a5ecd661aef"
  },
  {
   "cell_type": "code",
   "execution_count": 79,
   "outputs": [],
   "source": [
    "# Import necessary libraries\n",
    "import os\n",
    "import time\n",
    "import random\n",
    "\n",
    "from pathlib import Path\n",
    "import pandas as pd\n",
    "import numpy as np\n",
    "import matplotlib.pyplot as plt\n",
    "\n",
    "from sklearn.linear_model import LinearRegression, Lasso, Ridge\n",
    "from sklearn.decomposition import PCA\n",
    "from sklearn.preprocessing import StandardScaler\n",
    "from sklearn.tree import DecisionTreeRegressor\n",
    "from sklearn.ensemble import RandomForestRegressor\n",
    "from sklearn.model_selection import train_test_split\n",
    "from sklearn.metrics import mean_squared_error, mean_absolute_error, r2_score\n",
    "\n",
    "import statsmodels.api as sm\n",
    "import tensorflow as tf\n",
    "from tensorflow.keras.models import Sequential\n",
    "from tensorflow.keras.layers import Input, Dense, Activation, BatchNormalization\n",
    "from tensorflow.keras.models import Model\n",
    "\n",
    "\n",
    "from tensorflow.keras.utils import plot_model\n",
    "from tensorflow.keras import regularizers\n",
    "\n",
    "import ssl\n",
    "ssl._create_default_https_context = ssl._create_stdlib_context\n",
    "\n",
    "# Setting a seed for reproducibility\n",
    "np.random.seed(0)\n",
    "tf.random.set_seed(0)\n",
    "random.seed(0)"
   ],
   "metadata": {
    "collapsed": false,
    "ExecuteTime": {
     "end_time": "2024-10-03T19:54:45.374552Z",
     "start_time": "2024-10-03T19:54:45.367634Z"
    }
   },
   "id": "483d2599e74b321e"
  },
  {
   "cell_type": "code",
   "execution_count": 80,
   "outputs": [
    {
     "name": "stdout",
     "output_type": "stream",
     "text": [
      "No GPU\n"
     ]
    }
   ],
   "source": [
    "os.environ['TF_DETERMINISTIC_OPS'] = '1'\n",
    "\n",
    "# Ensure GPU is visible\n",
    "gpus = tf.config.list_physical_devices('GPU')\n",
    "if gpus:\n",
    "    try:\n",
    "        for gpu in gpus:\n",
    "            tf.config.experimental.set_memory_growth(gpu, True)\n",
    "            print('Using GPU')\n",
    "    except RuntimeError as e:\n",
    "        print(e)\n",
    "else:\n",
    "    print('No GPU')"
   ],
   "metadata": {
    "collapsed": false,
    "ExecuteTime": {
     "end_time": "2024-10-03T19:54:45.469886Z",
     "start_time": "2024-10-03T19:54:45.463965Z"
    }
   },
   "id": "19d78d8b07cffa9a"
  },
  {
   "cell_type": "markdown",
   "source": [
    "## Preprocessing"
   ],
   "metadata": {
    "collapsed": false
   },
   "id": "9666a3180ab3f2eb"
  },
  {
   "cell_type": "markdown",
   "source": [
    "#### Step 1: Download the Data"
   ],
   "metadata": {
    "collapsed": false
   },
   "id": "be450b84ab9de7a6"
  },
  {
   "cell_type": "code",
   "execution_count": 81,
   "outputs": [],
   "source": [
    "# Retrieve the data\n",
    "def load_data(local_file_path: Path, fred_path: str):\n",
    "    \"\"\"\n",
    "    Function to load data either from a local file or from FRED if the file doesn't exist locally.\n",
    "\n",
    "    Args:\n",
    "    local_file_path (Path): Local path to the dataset.\n",
    "    fred_path (str): URL to fetch the dataset from FRED.\n",
    "\n",
    "    Returns:\n",
    "    DataFrame: Loaded dataset.\n",
    "    \"\"\"\n",
    "    if local_file_path.is_file():\n",
    "        print(\"Local file found\")\n",
    "        df = pd.read_csv(local_file_path)\n",
    "    else:\n",
    "        print(\"Be patient: loading from FRED (2 minutes)\")\n",
    "        df = pd.read_csv(fred_path)\n",
    "        print(\"Done\")\n",
    "\n",
    "    # Drop unnecessary row\n",
    "    df.drop(0, inplace=True)\n",
    "\n",
    "    # Set index to date and format it as datetime\n",
    "    df = df.set_index(\"sasdate\", drop=True)\n",
    "    df.index = pd.to_datetime(df.index, format='%m/%d/%Y')\n",
    "\n",
    "    return df\n"
   ],
   "metadata": {
    "collapsed": false,
    "ExecuteTime": {
     "end_time": "2024-10-03T19:54:46.542706Z",
     "start_time": "2024-10-03T19:54:46.536324Z"
    }
   },
   "id": "1aeb5e10764b8159"
  },
  {
   "cell_type": "markdown",
   "source": [
    "#### Step 2: Define the target variable"
   ],
   "metadata": {
    "collapsed": false
   },
   "id": "a6bb6a1e7734db85"
  },
  {
   "cell_type": "code",
   "execution_count": 82,
   "outputs": [],
   "source": [
    "# Define the target variable (S&P 500 Returns)\n",
    "def preprocess_data(df):\n",
    "    \"\"\"\n",
    "    Preprocess the data by creating the target variable (S&P 500 log returns) and removing NaNs.\n",
    "\n",
    "    Args:\n",
    "    df (DataFrame): Data containing S&P 500 returns.\n",
    "\n",
    "    Returns:\n",
    "    DataFrame: Processed data with target variable.\n",
    "    \"\"\"\n",
    "    df['Target'] = (np.log(df['S&P 500']/df['S&P 500'].shift(1)))\n",
    "    df['Target'] = df['Target'].shift(periods=-1)\n",
    "    df.drop('S&P 500', axis=1, inplace=True)\n",
    "    df = df.apply(lambda x: x.fillna(x.rolling(window=6, min_periods=1).mean()))\n",
    "    df.dropna(inplace=True)\n",
    "\n",
    "    return df"
   ],
   "metadata": {
    "collapsed": false,
    "ExecuteTime": {
     "end_time": "2024-10-03T19:54:47.238611Z",
     "start_time": "2024-10-03T19:54:47.233024Z"
    }
   },
   "id": "1ea94ae9bfb09971"
  },
  {
   "cell_type": "markdown",
   "source": [
    "#### Step 3: Scale and Split the Data"
   ],
   "metadata": {
    "collapsed": false
   },
   "id": "54c96e142a387628"
  },
  {
   "cell_type": "code",
   "execution_count": 83,
   "outputs": [],
   "source": [
    "# Creating training and test sets, standardizing the data\n",
    "def split_and_scale_data(df):\n",
    "    \"\"\"\n",
    "    Splits the data into training and test sets and scales them.\n",
    "\n",
    "    Args:\n",
    "    df (DataFrame): Preprocessed data.\n",
    "\n",
    "    Returns:\n",
    "    Tuple: Scaled training and test datasets.\n",
    "    \"\"\"\n",
    "    train_data, test_data = train_test_split(df, test_size=0.2, shuffle=False)\n",
    "\n",
    "    scaler = StandardScaler()\n",
    "    train_data_scaled = pd.DataFrame(scaler.fit_transform(train_data), index=train_data.index, columns=train_data.columns)\n",
    "    test_data_scaled = pd.DataFrame(scaler.transform(test_data), index=test_data.index, columns=test_data.columns)\n",
    "\n",
    "    return train_data_scaled, test_data_scaled"
   ],
   "metadata": {
    "collapsed": false,
    "ExecuteTime": {
     "end_time": "2024-10-03T19:54:47.958090Z",
     "start_time": "2024-10-03T19:54:47.952582Z"
    }
   },
   "id": "fe01d9940304a404"
  },
  {
   "cell_type": "markdown",
   "source": [
    "## Defining the Models"
   ],
   "metadata": {
    "collapsed": false
   },
   "id": "87359c389f0a41a5"
  },
  {
   "cell_type": "markdown",
   "source": [
    "#### Defining the PCA model"
   ],
   "metadata": {
    "collapsed": false
   },
   "id": "238ba1956ca85f2f"
  },
  {
   "cell_type": "code",
   "execution_count": 84,
   "outputs": [],
   "source": [
    "# Estimate the PCA model\n",
    "def apply_pca(train_data_scaled, test_data_scaled):\n",
    "    \"\"\"\n",
    "    Apply PCA to the training and test datasets.\n",
    "\n",
    "    Args:\n",
    "    train_data_scaled (DataFrame): Scaled training data.\n",
    "    test_data_scaled (DataFrame): Scaled test data.\n",
    "\n",
    "    Returns:\n",
    "    Tuple: Transformed training and test data after PCA.\n",
    "    \"\"\"\n",
    "    pca = PCA(n_components=4, whiten=True, svd_solver='full')\n",
    "    pca.fit(train_data_scaled.drop(\"Target\", axis=1))\n",
    "\n",
    "    train_pca = pd.DataFrame(pca.transform(train_data_scaled.drop(\"Target\", axis=1)), index=train_data_scaled.index)\n",
    "    test_pca = pd.DataFrame(pca.transform(test_data_scaled.drop(\"Target\", axis=1)), index=test_data_scaled.index)\n",
    "\n",
    "    return train_pca, test_pca"
   ],
   "metadata": {
    "collapsed": false,
    "ExecuteTime": {
     "end_time": "2024-10-03T19:54:49.051588Z",
     "start_time": "2024-10-03T19:54:49.046296Z"
    }
   },
   "id": "a4c6080146097b1"
  },
  {
   "cell_type": "markdown",
   "source": [],
   "metadata": {
    "collapsed": false
   },
   "id": "2979bfb7054e9408"
  },
  {
   "cell_type": "markdown",
   "source": [
    "#### The NN architecture\n",
    "\n",
    "\n",
    "Beginning with the architecture from last week"
   ],
   "metadata": {
    "collapsed": false
   },
   "id": "59b60a36ad2f96df"
  },
  {
   "cell_type": "code",
   "execution_count": 85,
   "outputs": [],
   "source": [
    "class MCDropout(tf.keras.layers.Dropout):\n",
    "    def call(self, inputs):\n",
    "        return super().call(inputs, training=True)\n",
    "\n",
    "\n",
    "# Define the neural network model\n",
    "def build_neural_network(input_dim, l2_reg, dropout_rate):\n",
    "    \"\"\"\n",
    "    Function to build a neural network model for regression tasks.\n",
    "\n",
    "    Args:\n",
    "    input_dim (int): Number of features (input dimension).\n",
    "\n",
    "    Returns:\n",
    "    model: Compiled neural network model.\n",
    "    \"\"\"\n",
    "    inputs = Input(shape=(input_dim,))\n",
    "    x = MCDropout(dropout_rate)(inputs)\n",
    "    x = Dense(8, activation='relu', kernel_regularizer=regularizers.l2(l2_reg))(x)\n",
    "    x = MCDropout(dropout_rate)(x)\n",
    "    x = Dense(4, activation='relu', kernel_regularizer=regularizers.l2(l2_reg))(x)\n",
    "    x = MCDropout(dropout_rate)(x)\n",
    "    x = Dense(2, activation='relu', kernel_regularizer=regularizers.l2(l2_reg))(x)\n",
    "    x = MCDropout(dropout_rate)(x)\n",
    "    outputs = Dense(1, activation='linear')(x)\n",
    "    model = Model(inputs=inputs, outputs=outputs)\n",
    "\n",
    "    # Compile the model\n",
    "    model.compile(optimizer=tf.keras.optimizers.Adam(learning_rate=0.001),\n",
    "                  loss='mean_squared_error')\n",
    "\n",
    "    print(model.summary())\n",
    "\n",
    "    return model"
   ],
   "metadata": {
    "collapsed": false,
    "ExecuteTime": {
     "end_time": "2024-10-03T19:54:50.200069Z",
     "start_time": "2024-10-03T19:54:50.182039Z"
    }
   },
   "id": "727eb6eb1bdbb27a"
  },
  {
   "cell_type": "markdown",
   "source": [],
   "metadata": {
    "collapsed": false
   },
   "id": "f0e7f70bcaa067b5"
  },
  {
   "cell_type": "markdown",
   "source": [
    "## Estimating the Models"
   ],
   "metadata": {
    "collapsed": false
   },
   "id": "6557462b681f9db9"
  },
  {
   "cell_type": "markdown",
   "source": [
    "#### Callbacks"
   ],
   "metadata": {
    "collapsed": false
   },
   "id": "b91ba168b4536647"
  },
  {
   "cell_type": "code",
   "execution_count": 86,
   "outputs": [],
   "source": [
    "# Create the early stopping callback\n",
    "early_stopping = tf.keras.callbacks.EarlyStopping(\n",
    "    monitor='val_loss',             # Monitor validation loss\n",
    "    patience=5,                     # Stop after 5 epochs with no improvement\n",
    "    restore_best_weights=True       # Restore model weights from the best epoch\n",
    ")"
   ],
   "metadata": {
    "collapsed": false,
    "ExecuteTime": {
     "end_time": "2024-10-03T19:54:52.168920Z",
     "start_time": "2024-10-03T19:54:52.157606Z"
    }
   },
   "id": "5bcc03b2293583cd"
  },
  {
   "cell_type": "code",
   "execution_count": 87,
   "outputs": [],
   "source": [
    "# Estimating the Forecasting Models\n",
    "def train_models(train_data_scaled, train_pca, input_dim):\n",
    "    \"\"\"\n",
    "    Train multiple forecasting models (OLS, LASSO, Decision Tree, Random Forest, and Neural Network).\n",
    "\n",
    "    Args:\n",
    "    train_data_scaled (DataFrame): Scaled training data.\n",
    "    train_pca (DataFrame): Training data after applying PCA.\n",
    "    input_dim (int): Input dimension for the neural network model.\n",
    "\n",
    "    Returns:\n",
    "    Dict: Trained models.\n",
    "    \"\"\"\n",
    "    models = {\n",
    "        'ols': LinearRegression(fit_intercept=True).fit(train_data_scaled.drop(\"Target\", axis=1),\n",
    "                                                        train_data_scaled[\"Target\"]),\n",
    "        'ols_pca': LinearRegression(fit_intercept=True).fit(train_pca, train_data_scaled[\"Target\"]),\n",
    "        'lasso': Lasso(alpha=0.005, fit_intercept=True).fit(train_data_scaled.drop(\"Target\", axis=1),\n",
    "                                                            train_data_scaled['Target']),\n",
    "        'd_tree': DecisionTreeRegressor(max_depth=1000).fit(train_data_scaled.drop(\"Target\", axis=1),\n",
    "                                                            train_data_scaled[\"Target\"]),\n",
    "        'r_forest': RandomForestRegressor(max_depth=1000, random_state=0, n_estimators=2).fit(\n",
    "            train_data_scaled.drop(\"Target\", axis=1), train_data_scaled[\"Target\"])\n",
    "    }\n",
    "\n",
    "    # Neural Network training\n",
    "    ann_model = build_neural_network(input_dim, 0.0001, 0.15)\n",
    "\n",
    "    start = time.time()\n",
    "    # Train the neural network model\n",
    "    history = ann_model.fit(\n",
    "        train_data_scaled.drop(\"Target\", axis=1),\n",
    "        train_data_scaled[\"Target\"],\n",
    "        epochs=200,\n",
    "        batch_size=16,\n",
    "        validation_split=0.4,\n",
    "        verbose=1,\n",
    "        shuffle=False,\n",
    "        callbacks=[early_stopping]  # lr_scheduler\n",
    "    )\n",
    "    end = time.time()\n",
    "\n",
    "    print(end - start)\n",
    "\n",
    "    # Add the trained ANN model to the models dictionary\n",
    "    models['ann'] = ann_model\n",
    "\n",
    "    return models, history"
   ],
   "metadata": {
    "collapsed": false,
    "ExecuteTime": {
     "end_time": "2024-10-03T19:54:52.666952Z",
     "start_time": "2024-10-03T19:54:52.648457Z"
    }
   },
   "id": "81025c73749c49a4"
  },
  {
   "cell_type": "markdown",
   "source": [],
   "metadata": {
    "collapsed": false
   },
   "id": "9874e23374d0a1a6"
  },
  {
   "cell_type": "markdown",
   "source": [
    "## Generating Forecasts"
   ],
   "metadata": {
    "collapsed": false
   },
   "id": "bded45a2d0b14125"
  },
  {
   "cell_type": "code",
   "execution_count": 88,
   "outputs": [],
   "source": [
    "# Forecasts from the trained models\n",
    "def generate_forecasts(models, test_data_scaled, test_pca):\n",
    "    \"\"\"\n",
    "    Generate forecasts from the trained models.\n",
    "\n",
    "    Args:\n",
    "    models (Dict): Dictionary of trained models.\n",
    "    test_data_scaled (DataFrame): Scaled test data.\n",
    "    test_pca (DataFrame): Test data after applying PCA.\n",
    "\n",
    "    Returns:\n",
    "    Dict: Forecasts from each model.\n",
    "    \"\"\"\n",
    "    predictions = []\n",
    "\n",
    "    # Run MC dropout for stochastic forward passes\n",
    "    for i in range(1000):\n",
    "        pred = models['ann'](test_data_scaled.drop(\"Target\", axis=1), training=True)\n",
    "        predictions.append(pred)\n",
    "\n",
    "    # Stack predictions and compute the mean along the 0th axis\n",
    "    predictions = np.stack(predictions, axis=0)\n",
    "    mean_prediction = np.mean(predictions, axis=0)\n",
    "    st_dev_prediction = np.std(predictions, axis=0)\n",
    "\n",
    "    forecasts = {\n",
    "        'ols': models['ols'].predict(test_data_scaled.drop(\"Target\", axis=1)),\n",
    "        'ols_pca': models['ols_pca'].predict(test_pca),\n",
    "        'lasso': models['lasso'].predict(test_data_scaled.drop(\"Target\", axis=1)),\n",
    "        'd_tree': models['d_tree'].predict(test_data_scaled.drop(\"Target\", axis=1)),\n",
    "        'r_forest': models['r_forest'].predict(test_data_scaled.drop(\"Target\", axis=1)),\n",
    "        'ann': mean_prediction,\n",
    "        'ann_st_dev': st_dev_prediction,\n",
    "    }\n",
    "\n",
    "    return forecasts"
   ],
   "metadata": {
    "collapsed": false,
    "ExecuteTime": {
     "end_time": "2024-10-03T19:54:54.248976Z",
     "start_time": "2024-10-03T19:54:54.231785Z"
    }
   },
   "id": "114c0575fe2501c4"
  },
  {
   "cell_type": "markdown",
   "source": [],
   "metadata": {
    "collapsed": false
   },
   "id": "55173fc63292c907"
  },
  {
   "cell_type": "markdown",
   "source": [
    "## Evaluating the Forecasts"
   ],
   "metadata": {
    "collapsed": false
   },
   "id": "390c1dcdf8fe151e"
  },
  {
   "cell_type": "code",
   "execution_count": 89,
   "outputs": [],
   "source": [
    "# Evaluation of the models\n",
    "def evaluate_models(forecasts, test_data_scaled):\n",
    "    \"\"\"\n",
    "    Evaluate the models' performance using Mean Squared Error and Mean Absolute Error.\n",
    "\n",
    "    Args:\n",
    "    forecasts (Dict): Forecasts generated by each model.\n",
    "    test_data_scaled (DataFrame): Scaled test data.\n",
    "\n",
    "    Returns:\n",
    "    None\n",
    "    \"\"\"\n",
    "\n",
    "    target = test_data_scaled[\"Target\"].values\n",
    "    # Iterate through all but the last item\n",
    "    for model_name, forecast in list(forecasts.items())[:-1]:\n",
    "        mse = mean_squared_error(target, forecast)\n",
    "        mae = mean_absolute_error(target, forecast)\n",
    "        print(f\"{model_name}: MSE = {mse}, MAE = {mae}\")\n"
   ],
   "metadata": {
    "collapsed": false,
    "ExecuteTime": {
     "end_time": "2024-10-03T19:54:55.657841Z",
     "start_time": "2024-10-03T19:54:55.649419Z"
    }
   },
   "id": "3c5adeb5200c3e35"
  },
  {
   "cell_type": "code",
   "execution_count": 90,
   "outputs": [],
   "source": [
    "# Visualize the forecasts\n",
    "def plot_forecasts(forecasts, test_data_scaled):\n",
    "    \"\"\"\n",
    "    Plot the forecasts alongside the observed values.\n",
    "\n",
    "    Args:\n",
    "    forecasts (Dict): Forecasts generated by each model.\n",
    "    test_data_scaled (DataFrame): Scaled test data.\n",
    "\n",
    "    Returns:\n",
    "    None\n",
    "    \"\"\"\n",
    "\n",
    "    plt.figure()\n",
    "    plt.plot(test_data_scaled.index, test_data_scaled[\"Target\"], linewidth=1, color='black', label='Observed')\n",
    "    for model_name, forecast in list(forecasts.items())[-2:]:\n",
    "        plt.plot(test_data_scaled.index, forecast, '--', linewidth=1, label=model_name)\n",
    "    plt.title('Return Forecasts')\n",
    "    plt.xlabel('Date')\n",
    "    plt.ylabel('Estimated Returns')\n",
    "    plt.legend()\n",
    "    plt.show()"
   ],
   "metadata": {
    "collapsed": false,
    "ExecuteTime": {
     "end_time": "2024-10-03T19:54:56.176825Z",
     "start_time": "2024-10-03T19:54:56.170462Z"
    }
   },
   "id": "778139e9206c46fc"
  },
  {
   "cell_type": "markdown",
   "source": [
    "## Execute the Code\n",
    "\n"
   ],
   "metadata": {
    "collapsed": false
   },
   "id": "af1d7fb39b5e1747"
  },
  {
   "cell_type": "code",
   "execution_count": 91,
   "outputs": [
    {
     "name": "stdout",
     "output_type": "stream",
     "text": [
      "Be patient: loading from FRED (2 minutes)\n",
      "Done\n",
      "Model: \"model_7\"\n",
      "_________________________________________________________________\n",
      " Layer (type)                Output Shape              Param #   \n",
      "=================================================================\n",
      " input_8 (InputLayer)        [(None, 125)]             0         \n",
      "                                                                 \n",
      " mc_dropout_28 (MCDropout)   (None, 125)               0         \n",
      "                                                                 \n",
      " dense_28 (Dense)            (None, 8)                 1008      \n",
      "                                                                 \n",
      " mc_dropout_29 (MCDropout)   (None, 8)                 0         \n",
      "                                                                 \n",
      " dense_29 (Dense)            (None, 4)                 36        \n",
      "                                                                 \n",
      " mc_dropout_30 (MCDropout)   (None, 4)                 0         \n",
      "                                                                 \n",
      " dense_30 (Dense)            (None, 2)                 10        \n",
      "                                                                 \n"
     ]
    },
    {
     "name": "stderr",
     "output_type": "stream",
     "text": [
      "/Users/justincase/PycharmProjects/FINANCE 781/.venv/lib/python3.8/site-packages/sklearn/linear_model/_coordinate_descent.py:628: ConvergenceWarning: Objective did not converge. You might want to increase the number of iterations, check the scale of the features or consider increasing regularisation. Duality gap: 1.459e+00, tolerance: 3.120e-02\n",
      "  model = cd_fast.enet_coordinate_descent(\n"
     ]
    },
    {
     "name": "stdout",
     "output_type": "stream",
     "text": [
      " mc_dropout_31 (MCDropout)   (None, 2)                 0         \n",
      "                                                                 \n",
      " dense_31 (Dense)            (None, 1)                 3         \n",
      "                                                                 \n",
      "=================================================================\n",
      "Total params: 1057 (4.13 KB)\n",
      "Trainable params: 1057 (4.13 KB)\n",
      "Non-trainable params: 0 (0.00 Byte)\n",
      "_________________________________________________________________\n",
      "None\n",
      "Epoch 1/200\n",
      "12/12 [==============================] - 1s 14ms/step - loss: 0.9262 - val_loss: 1.4635\n",
      "Epoch 2/200\n",
      "12/12 [==============================] - 0s 3ms/step - loss: 0.8513 - val_loss: 1.5124\n",
      "Epoch 3/200\n",
      "12/12 [==============================] - 0s 4ms/step - loss: 0.8297 - val_loss: 1.4982\n",
      "Epoch 4/200\n",
      "12/12 [==============================] - 0s 3ms/step - loss: 0.8237 - val_loss: 1.5738\n",
      "Epoch 5/200\n",
      "12/12 [==============================] - 0s 3ms/step - loss: 0.8309 - val_loss: 1.6006\n",
      "Epoch 6/200\n",
      "12/12 [==============================] - 0s 3ms/step - loss: 0.8301 - val_loss: 1.6613\n",
      "1.5758030414581299\n",
      "ols: MSE = 14505.261515829137, MAE = 98.08759418684708\n",
      "ols_pca: MSE = 1.3463126123647882, MAE = 0.8054516908528438\n",
      "lasso: MSE = 5.476096524982476, MAE = 1.9424514222376064\n",
      "d_tree: MSE = 2.096411893941664, MAE = 1.0726429320328235\n",
      "r_forest: MSE = 1.5983794447794657, MAE = 0.9271614588956171\n",
      "ann: MSE = 1.398977376053197, MAE = 0.8637248933660405\n"
     ]
    },
    {
     "data": {
      "text/plain": "<Figure size 640x480 with 1 Axes>",
      "image/png": "[encoded data removed]"
     },
     "metadata": {},
     "output_type": "display_data"
    }
   ],
   "source": [
    "# Define paths for the dataset\n",
    "fred_path = \"https://files.stlouisfed.org/files/htdocs/fred-md/monthly/current.csv\"\n",
    "local_file_path = Path(\"data/current.csv\")\n",
    "\n",
    "# Load the data\n",
    "df = load_data(local_file_path, fred_path)\n",
    "\n",
    "# Preprocess the data\n",
    "df = preprocess_data(df)\n",
    "\n",
    "# Split and scale the data\n",
    "train_data_scaled, test_data_scaled = split_and_scale_data(df)\n",
    "\n",
    "# Apply PCA\n",
    "train_pca, test_pca = apply_pca(train_data_scaled, test_data_scaled)\n",
    "\n",
    "# Train models\n",
    "input_dim = len(train_data_scaled.columns) - 1  # Exclude the target column for input dimensions\n",
    "models, history = train_models(train_data_scaled, train_pca, input_dim)\n",
    "\n",
    "# Generate forecasts\n",
    "forecasts = generate_forecasts(models, test_data_scaled, test_pca)\n",
    "\n",
    "# Evaluate models\n",
    "evaluate_models(forecasts, test_data_scaled)\n",
    "\n",
    "# Plot forecasts\n",
    "plot_forecasts(forecasts, test_data_scaled)"
   ],
   "metadata": {
    "collapsed": false,
    "ExecuteTime": {
     "end_time": "2024-10-03T19:55:06.621099Z",
     "start_time": "2024-10-03T19:54:57.165453Z"
    }
   },
   "id": "860a164fc625033d"
  },
  {
   "cell_type": "code",
   "execution_count": 92,
   "outputs": [
    {
     "data": {
      "text/plain": "<Figure size 640x480 with 1 Axes>",
      "image/png": "[encoded data removed]"
     },
     "metadata": {},
     "output_type": "display_data"
    }
   ],
   "source": [
    "plt.plot(history.history['loss'], label='Training Loss')\n",
    "if 'val_loss' in history.history:\n",
    "    plt.plot(history.history['val_loss'], label='Validation Loss')\n",
    "plt.title('Model Loss')\n",
    "plt.ylabel('Loss')\n",
    "plt.xlabel('Epoch')\n",
    "plt.legend(loc='upper right')\n",
    "plt.show()"
   ],
   "metadata": {
    "collapsed": false,
    "ExecuteTime": {
     "end_time": "2024-10-03T19:55:06.783711Z",
     "start_time": "2024-10-03T19:55:06.623806Z"
    }
   },
   "id": "8e767856ac077742"
  },
  {
   "cell_type": "code",
   "execution_count": null,
   "outputs": [],
   "source": [],
   "metadata": {
    "collapsed": false
   },
   "id": "254273414670ab1f"
  }
 ],
 "metadata": {
  "kernelspec": {
   "display_name": "Python 3",
   "language": "python",
   "name": "python3"
  },
  "language_info": {
   "codemirror_mode": {
    "name": "ipython",
    "version": 2
   },
   "file_extension": ".py",
   "mimetype": "text/x-python",
   "name": "python",
   "nbconvert_exporter": "python",
   "pygments_lexer": "ipython2",
   "version": "2.7.6"
  }
 },
 "nbformat": 4,
 "nbformat_minor": 5
}
